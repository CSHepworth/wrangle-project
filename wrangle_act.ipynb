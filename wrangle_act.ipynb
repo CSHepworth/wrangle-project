{
 "cells": [
  {
   "cell_type": "code",
   "execution_count": 443,
   "metadata": {},
   "outputs": [],
   "source": [
    "import pandas as pd\n",
    "import numpy as np\n",
    "import requests\n",
    "import tweepy\n",
    "from tweepy import OAuthHandler\n",
    "import os\n",
    "import json\n",
    "from timeit import default_timer as timer\n",
    "\n",
    "import matplotlib.pyplot as plt\n",
    "%matplotlib inline\n",
    "\n",
    "pd.set_option('display.max_rows', None)\n",
    "pd.set_option('display.max_colwidth', None)"
   ]
  },
  {
   "cell_type": "markdown",
   "metadata": {
    "extensions": {
     "jupyter_dashboards": {
      "version": 1,
      "views": {
       "grid_default": {
        "col": 0,
        "height": 4,
        "hidden": false,
        "row": 0,
        "width": 4
       },
       "report_default": {
        "hidden": false
       }
      }
     }
    }
   },
   "source": [
    "# Project: Wrangling and Analyze Data"
   ]
  },
  {
   "cell_type": "markdown",
   "metadata": {},
   "source": [
    "## Data Gathering\n",
    "In the cell below, gather **all** three pieces of data for this project and load them in the notebook. **Note:** the methods required to gather each data are different.\n",
    "1. Directly download the WeRateDogs Twitter archive data (twitter_archive_enhanced.csv)"
   ]
  },
  {
   "cell_type": "code",
   "execution_count": 444,
   "metadata": {
    "extensions": {
     "jupyter_dashboards": {
      "version": 1,
      "views": {
       "grid_default": {
        "hidden": true
       },
       "report_default": {
        "hidden": true
       }
      }
     }
    }
   },
   "outputs": [],
   "source": [
    "archive = pd.read_csv('twitter-archive-enhanced.csv')"
   ]
  },
  {
   "cell_type": "markdown",
   "metadata": {},
   "source": [
    "2. Use the Requests library to download the tweet image prediction (image_predictions.tsv)"
   ]
  },
  {
   "cell_type": "code",
   "execution_count": 445,
   "metadata": {},
   "outputs": [],
   "source": [
    "url = 'https://d17h27t6h515a5.cloudfront.net/topher/2017/August/599fd2ad_image-predictions/image-predictions.tsv'\n",
    "r = requests.get(url)\n",
    "with open(os.path.join(url.split('/')[-1]), mode = 'wb') as file:\n",
    "    file.write(r.content)"
   ]
  },
  {
   "cell_type": "code",
   "execution_count": 446,
   "metadata": {},
   "outputs": [],
   "source": [
    "images = pd.read_table('image-predictions.tsv', sep = '\\t')"
   ]
  },
  {
   "cell_type": "markdown",
   "metadata": {},
   "source": [
    "3. Use the Tweepy library to query additional data via the Twitter API (tweet_json.txt)"
   ]
  },
  {
   "cell_type": "code",
   "execution_count": 447,
   "metadata": {},
   "outputs": [
    {
     "data": {
      "text/plain": [
       "'\\nimport tweepy\\nfrom tweepy import OAuthHandler\\nimport json\\nfrom timeit import default_timer as timer\\n\\n# Query Twitter API for each tweet in the Twitter archive and save JSON in a text file\\n# These are hidden to comply with Twitter\\'s API terms and conditions\\nconsumer_key = \\'HIDDEN\\'\\nconsumer_secret = \\'HIDDEN\\'\\naccess_token = \\'HIDDEN\\'\\naccess_secret = \\'HIDDEN\\'\\n\\nauth = OAuthHandler(consumer_key, consumer_secret)\\nauth.set_access_token(access_token, access_secret)\\n\\napi = tweepy.API(auth, wait_on_rate_limit=True)\\n\\n# NOTE TO STUDENT WITH MOBILE VERIFICATION ISSUES:\\n# df_1 is a DataFrame with the twitter_archive_enhanced.csv file. You may have to\\n# change line 17 to match the name of your DataFrame with twitter_archive_enhanced.csv\\n# NOTE TO REVIEWER: this student had mobile verification issues so the following\\n# Twitter API code was sent to this student from a Udacity instructor\\n# Tweet IDs for which to gather additional data via Twitter\\'s API\\ntweet_ids = archive.tweet_id.values\\nlen(tweet_ids)\\n\\n# Query Twitter\\'s API for JSON data for each tweet ID in the Twitter archive\\ncount = 0\\nfails_dict = {}\\nstart = timer()\\n# Save each tweet\\'s returned JSON as a new line in a .txt file\\nwith open(\\'tweet_json.txt\\', \\'w\\') as outfile:\\n    # This loop will likely take 20-30 minutes to run because of Twitter\\'s rate limit\\n    for tweet_id in tweet_ids:\\n        count += 1\\n        print(str(count) + \": \" + str(tweet_id))\\n        try:\\n            tweet = api.get_status(tweet_id, tweet_mode=\\'extended\\')\\n            print(\"Success\")\\n            json.dump(tweet._json, outfile)\\n            outfile.write(\\'\\n\\')\\n        except tweepy.TweepyException as e:\\n            print(\"Fail\")\\n            fails_dict[tweet_id] = e\\n            pass\\nend = timer()\\nprint(end - start)\\nprint(fails_dict)\\n'"
      ]
     },
     "execution_count": 447,
     "metadata": {},
     "output_type": "execute_result"
    }
   ],
   "source": [
    "\"\"\"\n",
    "import tweepy\n",
    "from tweepy import OAuthHandler\n",
    "import json\n",
    "from timeit import default_timer as timer\n",
    "\n",
    "# Query Twitter API for each tweet in the Twitter archive and save JSON in a text file\n",
    "# These are hidden to comply with Twitter's API terms and conditions\n",
    "consumer_key = 'HIDDEN'\n",
    "consumer_secret = 'HIDDEN'\n",
    "access_token = 'HIDDEN'\n",
    "access_secret = 'HIDDEN'\n",
    "\n",
    "auth = OAuthHandler(consumer_key, consumer_secret)\n",
    "auth.set_access_token(access_token, access_secret)\n",
    "\n",
    "api = tweepy.API(auth, wait_on_rate_limit=True)\n",
    "\n",
    "# NOTE TO STUDENT WITH MOBILE VERIFICATION ISSUES:\n",
    "# df_1 is a DataFrame with the twitter_archive_enhanced.csv file. You may have to\n",
    "# change line 17 to match the name of your DataFrame with twitter_archive_enhanced.csv\n",
    "# NOTE TO REVIEWER: this student had mobile verification issues so the following\n",
    "# Twitter API code was sent to this student from a Udacity instructor\n",
    "# Tweet IDs for which to gather additional data via Twitter's API\n",
    "tweet_ids = archive.tweet_id.values\n",
    "len(tweet_ids)\n",
    "\n",
    "# Query Twitter's API for JSON data for each tweet ID in the Twitter archive\n",
    "count = 0\n",
    "fails_dict = {}\n",
    "start = timer()\n",
    "# Save each tweet's returned JSON as a new line in a .txt file\n",
    "with open('tweet_json.txt', 'w') as outfile:\n",
    "    # This loop will likely take 20-30 minutes to run because of Twitter's rate limit\n",
    "    for tweet_id in tweet_ids:\n",
    "        count += 1\n",
    "        print(str(count) + \": \" + str(tweet_id))\n",
    "        try:\n",
    "            tweet = api.get_status(tweet_id, tweet_mode='extended')\n",
    "            print(\"Success\")\n",
    "            json.dump(tweet._json, outfile)\n",
    "            outfile.write('\\n')\n",
    "        except tweepy.TweepyException as e:\n",
    "            print(\"Fail\")\n",
    "            fails_dict[tweet_id] = e\n",
    "            pass\n",
    "end = timer()\n",
    "print(end - start)\n",
    "print(fails_dict)\n",
    "\"\"\""
   ]
  },
  {
   "cell_type": "code",
   "execution_count": 448,
   "metadata": {},
   "outputs": [],
   "source": [
    "tweets = pd.read_json('tweet-json.txt', lines = True)"
   ]
  },
  {
   "cell_type": "markdown",
   "metadata": {
    "extensions": {
     "jupyter_dashboards": {
      "version": 1,
      "views": {
       "grid_default": {
        "col": 4,
        "height": 4,
        "hidden": false,
        "row": 28,
        "width": 4
       },
       "report_default": {
        "hidden": false
       }
      }
     }
    }
   },
   "source": [
    "## Assessing Data\n",
    "In this section, detect and document at least **eight (8) quality issues and two (2) tidiness issue**. You must use **both** visual assessment\n",
    "programmatic assessement to assess the data.\n",
    "\n",
    "**Note:** pay attention to the following key points when you access the data.\n",
    "\n",
    "* You only want original ratings (no retweets) that have images. Though there are 5000+ tweets in the dataset, not all are dog ratings and some are retweets.\n",
    "* Assessing and cleaning the entire dataset completely would require a lot of time, and is not necessary to practice and demonstrate your skills in data wrangling. Therefore, the requirements of this project are only to assess and clean at least 8 quality issues and at least 2 tidiness issues in this dataset.\n",
    "* The fact that the rating numerators are greater than the denominators does not need to be cleaned. This [unique rating system](http://knowyourmeme.com/memes/theyre-good-dogs-brent) is a big part of the popularity of WeRateDogs.\n",
    "* You do not need to gather the tweets beyond August 1st, 2017. You can, but note that you won't be able to gather the image predictions for these tweets since you don't have access to the algorithm used.\n",
    "\n"
   ]
  },
  {
   "cell_type": "markdown",
   "metadata": {},
   "source": [
    "### Archive"
   ]
  },
  {
   "cell_type": "code",
   "execution_count": 449,
   "metadata": {},
   "outputs": [
    {
     "data": {
      "text/html": [
       "<div>\n",
       "<style scoped>\n",
       "    .dataframe tbody tr th:only-of-type {\n",
       "        vertical-align: middle;\n",
       "    }\n",
       "\n",
       "    .dataframe tbody tr th {\n",
       "        vertical-align: top;\n",
       "    }\n",
       "\n",
       "    .dataframe thead th {\n",
       "        text-align: right;\n",
       "    }\n",
       "</style>\n",
       "<table border=\"1\" class=\"dataframe\">\n",
       "  <thead>\n",
       "    <tr style=\"text-align: right;\">\n",
       "      <th></th>\n",
       "      <th>tweet_id</th>\n",
       "      <th>in_reply_to_status_id</th>\n",
       "      <th>in_reply_to_user_id</th>\n",
       "      <th>timestamp</th>\n",
       "      <th>source</th>\n",
       "      <th>text</th>\n",
       "      <th>retweeted_status_id</th>\n",
       "      <th>retweeted_status_user_id</th>\n",
       "      <th>retweeted_status_timestamp</th>\n",
       "      <th>expanded_urls</th>\n",
       "      <th>rating_numerator</th>\n",
       "      <th>rating_denominator</th>\n",
       "      <th>name</th>\n",
       "      <th>doggo</th>\n",
       "      <th>floofer</th>\n",
       "      <th>pupper</th>\n",
       "      <th>puppo</th>\n",
       "    </tr>\n",
       "  </thead>\n",
       "  <tbody>\n",
       "    <tr>\n",
       "      <th>0</th>\n",
       "      <td>892420643555336193</td>\n",
       "      <td>NaN</td>\n",
       "      <td>NaN</td>\n",
       "      <td>2017-08-01 16:23:56 +0000</td>\n",
       "      <td>&lt;a href=\"http://twitter.com/download/iphone\" rel=\"nofollow\"&gt;Twitter for iPhone&lt;/a&gt;</td>\n",
       "      <td>This is Phineas. He's a mystical boy. Only ever appears in the hole of a donut. 13/10 https://t.co/MgUWQ76dJU</td>\n",
       "      <td>NaN</td>\n",
       "      <td>NaN</td>\n",
       "      <td>NaN</td>\n",
       "      <td>https://twitter.com/dog_rates/status/892420643555336193/photo/1</td>\n",
       "      <td>13</td>\n",
       "      <td>10</td>\n",
       "      <td>Phineas</td>\n",
       "      <td>NaN</td>\n",
       "      <td>NaN</td>\n",
       "      <td>NaN</td>\n",
       "      <td>NaN</td>\n",
       "    </tr>\n",
       "    <tr>\n",
       "      <th>1</th>\n",
       "      <td>892177421306343426</td>\n",
       "      <td>NaN</td>\n",
       "      <td>NaN</td>\n",
       "      <td>2017-08-01 00:17:27 +0000</td>\n",
       "      <td>&lt;a href=\"http://twitter.com/download/iphone\" rel=\"nofollow\"&gt;Twitter for iPhone&lt;/a&gt;</td>\n",
       "      <td>This is Tilly. She's just checking pup on you. Hopes you're doing ok. If not, she's available for pats, snugs, boops, the whole bit. 13/10 https://t.co/0Xxu71qeIV</td>\n",
       "      <td>NaN</td>\n",
       "      <td>NaN</td>\n",
       "      <td>NaN</td>\n",
       "      <td>https://twitter.com/dog_rates/status/892177421306343426/photo/1</td>\n",
       "      <td>13</td>\n",
       "      <td>10</td>\n",
       "      <td>Tilly</td>\n",
       "      <td>NaN</td>\n",
       "      <td>NaN</td>\n",
       "      <td>NaN</td>\n",
       "      <td>NaN</td>\n",
       "    </tr>\n",
       "    <tr>\n",
       "      <th>2</th>\n",
       "      <td>891815181378084864</td>\n",
       "      <td>NaN</td>\n",
       "      <td>NaN</td>\n",
       "      <td>2017-07-31 00:18:03 +0000</td>\n",
       "      <td>&lt;a href=\"http://twitter.com/download/iphone\" rel=\"nofollow\"&gt;Twitter for iPhone&lt;/a&gt;</td>\n",
       "      <td>This is Archie. He is a rare Norwegian Pouncing Corgo. Lives in the tall grass. You never know when one may strike. 12/10 https://t.co/wUnZnhtVJB</td>\n",
       "      <td>NaN</td>\n",
       "      <td>NaN</td>\n",
       "      <td>NaN</td>\n",
       "      <td>https://twitter.com/dog_rates/status/891815181378084864/photo/1</td>\n",
       "      <td>12</td>\n",
       "      <td>10</td>\n",
       "      <td>Archie</td>\n",
       "      <td>NaN</td>\n",
       "      <td>NaN</td>\n",
       "      <td>NaN</td>\n",
       "      <td>NaN</td>\n",
       "    </tr>\n",
       "  </tbody>\n",
       "</table>\n",
       "</div>"
      ],
      "text/plain": [
       "             tweet_id  in_reply_to_status_id  in_reply_to_user_id  \\\n",
       "0  892420643555336193                    NaN                  NaN   \n",
       "1  892177421306343426                    NaN                  NaN   \n",
       "2  891815181378084864                    NaN                  NaN   \n",
       "\n",
       "                   timestamp  \\\n",
       "0  2017-08-01 16:23:56 +0000   \n",
       "1  2017-08-01 00:17:27 +0000   \n",
       "2  2017-07-31 00:18:03 +0000   \n",
       "\n",
       "                                                                               source  \\\n",
       "0  <a href=\"http://twitter.com/download/iphone\" rel=\"nofollow\">Twitter for iPhone</a>   \n",
       "1  <a href=\"http://twitter.com/download/iphone\" rel=\"nofollow\">Twitter for iPhone</a>   \n",
       "2  <a href=\"http://twitter.com/download/iphone\" rel=\"nofollow\">Twitter for iPhone</a>   \n",
       "\n",
       "                                                                                                                                                                 text  \\\n",
       "0                                                       This is Phineas. He's a mystical boy. Only ever appears in the hole of a donut. 13/10 https://t.co/MgUWQ76dJU   \n",
       "1  This is Tilly. She's just checking pup on you. Hopes you're doing ok. If not, she's available for pats, snugs, boops, the whole bit. 13/10 https://t.co/0Xxu71qeIV   \n",
       "2                   This is Archie. He is a rare Norwegian Pouncing Corgo. Lives in the tall grass. You never know when one may strike. 12/10 https://t.co/wUnZnhtVJB   \n",
       "\n",
       "   retweeted_status_id  retweeted_status_user_id retweeted_status_timestamp  \\\n",
       "0                  NaN                       NaN                        NaN   \n",
       "1                  NaN                       NaN                        NaN   \n",
       "2                  NaN                       NaN                        NaN   \n",
       "\n",
       "                                                     expanded_urls  \\\n",
       "0  https://twitter.com/dog_rates/status/892420643555336193/photo/1   \n",
       "1  https://twitter.com/dog_rates/status/892177421306343426/photo/1   \n",
       "2  https://twitter.com/dog_rates/status/891815181378084864/photo/1   \n",
       "\n",
       "   rating_numerator  rating_denominator     name doggo floofer pupper puppo  \n",
       "0                13                  10  Phineas   NaN     NaN    NaN   NaN  \n",
       "1                13                  10    Tilly   NaN     NaN    NaN   NaN  \n",
       "2                12                  10   Archie   NaN     NaN    NaN   NaN  "
      ]
     },
     "execution_count": 449,
     "metadata": {},
     "output_type": "execute_result"
    }
   ],
   "source": [
    "archive.head(3)"
   ]
  },
  {
   "cell_type": "code",
   "execution_count": 450,
   "metadata": {},
   "outputs": [
    {
     "name": "stdout",
     "output_type": "stream",
     "text": [
      "<class 'pandas.core.frame.DataFrame'>\n",
      "RangeIndex: 2356 entries, 0 to 2355\n",
      "Data columns (total 17 columns):\n",
      " #   Column                      Non-Null Count  Dtype  \n",
      "---  ------                      --------------  -----  \n",
      " 0   tweet_id                    2356 non-null   int64  \n",
      " 1   in_reply_to_status_id       78 non-null     float64\n",
      " 2   in_reply_to_user_id         78 non-null     float64\n",
      " 3   timestamp                   2356 non-null   object \n",
      " 4   source                      2356 non-null   object \n",
      " 5   text                        2356 non-null   object \n",
      " 6   retweeted_status_id         181 non-null    float64\n",
      " 7   retweeted_status_user_id    181 non-null    float64\n",
      " 8   retweeted_status_timestamp  181 non-null    object \n",
      " 9   expanded_urls               2297 non-null   object \n",
      " 10  rating_numerator            2356 non-null   int64  \n",
      " 11  rating_denominator          2356 non-null   int64  \n",
      " 12  name                        1611 non-null   object \n",
      " 13  doggo                       97 non-null     object \n",
      " 14  floofer                     10 non-null     object \n",
      " 15  pupper                      257 non-null    object \n",
      " 16  puppo                       30 non-null     object \n",
      "dtypes: float64(4), int64(3), object(10)\n",
      "memory usage: 313.0+ KB\n"
     ]
    }
   ],
   "source": [
    "archive.info()"
   ]
  },
  {
   "cell_type": "markdown",
   "metadata": {},
   "source": [
    "#### There's a lot of names that aren't really names. They are all lowercase so they'll be an easy find."
   ]
  },
  {
   "cell_type": "code",
   "execution_count": 451,
   "metadata": {},
   "outputs": [
    {
     "name": "stdout",
     "output_type": "stream",
     "text": [
      "such\n",
      "a\n",
      "quite\n",
      "quite\n",
      "quite\n",
      "not\n",
      "one\n",
      "incredibly\n",
      "a\n",
      "mad\n",
      "an\n",
      "very\n",
      "a\n",
      "very\n",
      "just\n",
      "my\n",
      "one\n",
      "not\n",
      "his\n",
      "one\n",
      "a\n",
      "a\n",
      "a\n",
      "an\n",
      "very\n",
      "actually\n",
      "a\n",
      "just\n",
      "getting\n",
      "mad\n",
      "very\n",
      "this\n",
      "unacceptable\n",
      "all\n",
      "a\n",
      "old\n",
      "a\n",
      "infuriating\n",
      "a\n",
      "a\n",
      "a\n",
      "an\n",
      "a\n",
      "a\n",
      "very\n",
      "getting\n",
      "just\n",
      "a\n",
      "the\n",
      "the\n",
      "actually\n",
      "by\n",
      "a\n",
      "officially\n",
      "a\n",
      "the\n",
      "the\n",
      "a\n",
      "a\n",
      "a\n",
      "a\n",
      "life\n",
      "a\n",
      "one\n",
      "a\n",
      "a\n",
      "a\n",
      "light\n",
      "just\n",
      "space\n",
      "a\n",
      "the\n",
      "a\n",
      "a\n",
      "a\n",
      "a\n",
      "a\n",
      "a\n",
      "a\n",
      "a\n",
      "a\n",
      "an\n",
      "a\n",
      "the\n",
      "a\n",
      "a\n",
      "a\n",
      "a\n",
      "a\n",
      "a\n",
      "a\n",
      "a\n",
      "a\n",
      "a\n",
      "a\n",
      "quite\n",
      "a\n",
      "an\n",
      "a\n",
      "an\n",
      "the\n",
      "the\n",
      "a\n",
      "a\n",
      "an\n",
      "a\n",
      "a\n",
      "a\n",
      "a\n"
     ]
    }
   ],
   "source": [
    "non_names = archive[list(map(lambda x: x.islower() and x != 'nan', archive['name'].astype(str)))]['name']\n",
    "for n in non_names:\n",
    "    print(n)"
   ]
  },
  {
   "cell_type": "markdown",
   "metadata": {},
   "source": [
    "#### Checking for upper_case only names"
   ]
  },
  {
   "cell_type": "code",
   "execution_count": 452,
   "metadata": {},
   "outputs": [
    {
     "name": "stdout",
     "output_type": "stream",
     "text": [
      "O\n",
      "JD\n"
     ]
    }
   ],
   "source": [
    "upper_case_only = archive[list(map(lambda x: x.isupper() and x != 'nan', archive['name'].astype(str)))]['name']\n",
    "for n in upper_case_only:\n",
    "    print(n)"
   ]
  },
  {
   "cell_type": "markdown",
   "metadata": {},
   "source": [
    "#### O appears yet when investigating the text of the tweet it is spelled out fully as O'Malley"
   ]
  },
  {
   "cell_type": "markdown",
   "metadata": {},
   "source": [
    "### Images"
   ]
  },
  {
   "cell_type": "code",
   "execution_count": 453,
   "metadata": {},
   "outputs": [
    {
     "name": "stdout",
     "output_type": "stream",
     "text": [
      "<class 'pandas.core.frame.DataFrame'>\n",
      "RangeIndex: 2075 entries, 0 to 2074\n",
      "Data columns (total 12 columns):\n",
      " #   Column    Non-Null Count  Dtype  \n",
      "---  ------    --------------  -----  \n",
      " 0   tweet_id  2075 non-null   int64  \n",
      " 1   jpg_url   2075 non-null   object \n",
      " 2   img_num   2075 non-null   int64  \n",
      " 3   p1        2075 non-null   object \n",
      " 4   p1_conf   2075 non-null   float64\n",
      " 5   p1_dog    2075 non-null   bool   \n",
      " 6   p2        2075 non-null   object \n",
      " 7   p2_conf   2075 non-null   float64\n",
      " 8   p2_dog    2075 non-null   bool   \n",
      " 9   p3        2075 non-null   object \n",
      " 10  p3_conf   2075 non-null   float64\n",
      " 11  p3_dog    2075 non-null   bool   \n",
      "dtypes: bool(3), float64(3), int64(2), object(4)\n",
      "memory usage: 152.1+ KB\n"
     ]
    }
   ],
   "source": [
    "images.info()"
   ]
  },
  {
   "cell_type": "code",
   "execution_count": 454,
   "metadata": {},
   "outputs": [
    {
     "data": {
      "text/html": [
       "<div>\n",
       "<style scoped>\n",
       "    .dataframe tbody tr th:only-of-type {\n",
       "        vertical-align: middle;\n",
       "    }\n",
       "\n",
       "    .dataframe tbody tr th {\n",
       "        vertical-align: top;\n",
       "    }\n",
       "\n",
       "    .dataframe thead th {\n",
       "        text-align: right;\n",
       "    }\n",
       "</style>\n",
       "<table border=\"1\" class=\"dataframe\">\n",
       "  <thead>\n",
       "    <tr style=\"text-align: right;\">\n",
       "      <th></th>\n",
       "      <th>tweet_id</th>\n",
       "      <th>jpg_url</th>\n",
       "      <th>img_num</th>\n",
       "      <th>p1</th>\n",
       "      <th>p1_conf</th>\n",
       "      <th>p1_dog</th>\n",
       "      <th>p2</th>\n",
       "      <th>p2_conf</th>\n",
       "      <th>p2_dog</th>\n",
       "      <th>p3</th>\n",
       "      <th>p3_conf</th>\n",
       "      <th>p3_dog</th>\n",
       "    </tr>\n",
       "  </thead>\n",
       "  <tbody>\n",
       "    <tr>\n",
       "      <th>0</th>\n",
       "      <td>666020888022790149</td>\n",
       "      <td>https://pbs.twimg.com/media/CT4udn0WwAA0aMy.jpg</td>\n",
       "      <td>1</td>\n",
       "      <td>Welsh_springer_spaniel</td>\n",
       "      <td>0.465074</td>\n",
       "      <td>True</td>\n",
       "      <td>collie</td>\n",
       "      <td>0.156665</td>\n",
       "      <td>True</td>\n",
       "      <td>Shetland_sheepdog</td>\n",
       "      <td>0.061428</td>\n",
       "      <td>True</td>\n",
       "    </tr>\n",
       "    <tr>\n",
       "      <th>1</th>\n",
       "      <td>666029285002620928</td>\n",
       "      <td>https://pbs.twimg.com/media/CT42GRgUYAA5iDo.jpg</td>\n",
       "      <td>1</td>\n",
       "      <td>redbone</td>\n",
       "      <td>0.506826</td>\n",
       "      <td>True</td>\n",
       "      <td>miniature_pinscher</td>\n",
       "      <td>0.074192</td>\n",
       "      <td>True</td>\n",
       "      <td>Rhodesian_ridgeback</td>\n",
       "      <td>0.072010</td>\n",
       "      <td>True</td>\n",
       "    </tr>\n",
       "    <tr>\n",
       "      <th>2</th>\n",
       "      <td>666033412701032449</td>\n",
       "      <td>https://pbs.twimg.com/media/CT4521TWwAEvMyu.jpg</td>\n",
       "      <td>1</td>\n",
       "      <td>German_shepherd</td>\n",
       "      <td>0.596461</td>\n",
       "      <td>True</td>\n",
       "      <td>malinois</td>\n",
       "      <td>0.138584</td>\n",
       "      <td>True</td>\n",
       "      <td>bloodhound</td>\n",
       "      <td>0.116197</td>\n",
       "      <td>True</td>\n",
       "    </tr>\n",
       "    <tr>\n",
       "      <th>3</th>\n",
       "      <td>666044226329800704</td>\n",
       "      <td>https://pbs.twimg.com/media/CT5Dr8HUEAA-lEu.jpg</td>\n",
       "      <td>1</td>\n",
       "      <td>Rhodesian_ridgeback</td>\n",
       "      <td>0.408143</td>\n",
       "      <td>True</td>\n",
       "      <td>redbone</td>\n",
       "      <td>0.360687</td>\n",
       "      <td>True</td>\n",
       "      <td>miniature_pinscher</td>\n",
       "      <td>0.222752</td>\n",
       "      <td>True</td>\n",
       "    </tr>\n",
       "    <tr>\n",
       "      <th>4</th>\n",
       "      <td>666049248165822465</td>\n",
       "      <td>https://pbs.twimg.com/media/CT5IQmsXIAAKY4A.jpg</td>\n",
       "      <td>1</td>\n",
       "      <td>miniature_pinscher</td>\n",
       "      <td>0.560311</td>\n",
       "      <td>True</td>\n",
       "      <td>Rottweiler</td>\n",
       "      <td>0.243682</td>\n",
       "      <td>True</td>\n",
       "      <td>Doberman</td>\n",
       "      <td>0.154629</td>\n",
       "      <td>True</td>\n",
       "    </tr>\n",
       "  </tbody>\n",
       "</table>\n",
       "</div>"
      ],
      "text/plain": [
       "             tweet_id                                          jpg_url  \\\n",
       "0  666020888022790149  https://pbs.twimg.com/media/CT4udn0WwAA0aMy.jpg   \n",
       "1  666029285002620928  https://pbs.twimg.com/media/CT42GRgUYAA5iDo.jpg   \n",
       "2  666033412701032449  https://pbs.twimg.com/media/CT4521TWwAEvMyu.jpg   \n",
       "3  666044226329800704  https://pbs.twimg.com/media/CT5Dr8HUEAA-lEu.jpg   \n",
       "4  666049248165822465  https://pbs.twimg.com/media/CT5IQmsXIAAKY4A.jpg   \n",
       "\n",
       "   img_num                      p1   p1_conf  p1_dog                  p2  \\\n",
       "0        1  Welsh_springer_spaniel  0.465074    True              collie   \n",
       "1        1                 redbone  0.506826    True  miniature_pinscher   \n",
       "2        1         German_shepherd  0.596461    True            malinois   \n",
       "3        1     Rhodesian_ridgeback  0.408143    True             redbone   \n",
       "4        1      miniature_pinscher  0.560311    True          Rottweiler   \n",
       "\n",
       "    p2_conf  p2_dog                   p3   p3_conf  p3_dog  \n",
       "0  0.156665    True    Shetland_sheepdog  0.061428    True  \n",
       "1  0.074192    True  Rhodesian_ridgeback  0.072010    True  \n",
       "2  0.138584    True           bloodhound  0.116197    True  \n",
       "3  0.360687    True   miniature_pinscher  0.222752    True  \n",
       "4  0.243682    True             Doberman  0.154629    True  "
      ]
     },
     "execution_count": 454,
     "metadata": {},
     "output_type": "execute_result"
    }
   ],
   "source": [
    "images.head()"
   ]
  },
  {
   "cell_type": "code",
   "execution_count": 455,
   "metadata": {},
   "outputs": [
    {
     "data": {
      "text/plain": [
       "p1\n",
       "golden_retriever                  150\n",
       "Labrador_retriever                100\n",
       "Pembroke                           89\n",
       "Chihuahua                          83\n",
       "pug                                57\n",
       "chow                               44\n",
       "Samoyed                            43\n",
       "toy_poodle                         39\n",
       "Pomeranian                         38\n",
       "cocker_spaniel                     30\n",
       "malamute                           30\n",
       "French_bulldog                     26\n",
       "miniature_pinscher                 23\n",
       "Chesapeake_Bay_retriever           23\n",
       "seat_belt                          22\n",
       "Siberian_husky                     20\n",
       "German_shepherd                    20\n",
       "Staffordshire_bullterrier          20\n",
       "Cardigan                           19\n",
       "web_site                           19\n",
       "Eskimo_dog                         18\n",
       "Maltese_dog                        18\n",
       "Shetland_sheepdog                  18\n",
       "teddy                              18\n",
       "beagle                             18\n",
       "Lakeland_terrier                   17\n",
       "Rottweiler                         17\n",
       "Shih-Tzu                           17\n",
       "Italian_greyhound                  16\n",
       "kuvasz                             16\n",
       "West_Highland_white_terrier        14\n",
       "Great_Pyrenees                     14\n",
       "American_Staffordshire_terrier     13\n",
       "basset                             13\n",
       "Pekinese                           13\n",
       "dalmatian                          13\n",
       "vizsla                             13\n",
       "Airedale                           12\n",
       "Border_collie                      12\n",
       "Old_English_sheepdog               12\n",
       "kelpie                             11\n",
       "Blenheim_spaniel                   11\n",
       "soft-coated_wheaten_terrier        11\n",
       "schipperke                         10\n",
       "Bernese_mountain_dog               10\n",
       "English_springer                   10\n",
       "collie                             10\n",
       "boxer                              10\n",
       "whippet                             9\n",
       "dingo                               9\n",
       "malinois                            9\n",
       "Great_Dane                          9\n",
       "borzoi                              9\n",
       "tennis_ball                         9\n",
       "Boston_bull                         9\n",
       "flat-coated_retriever               8\n",
       "standard_poodle                     8\n",
       "Yorkshire_terrier                   8\n",
       "doormat                             8\n",
       "Norwegian_elkhound                  8\n",
       "Doberman                            8\n",
       "papillon                            8\n",
       "miniature_poodle                    8\n",
       "English_setter                      8\n",
       "Siamese_cat                         7\n",
       "Border_terrier                      7\n",
       "bath_towel                          7\n",
       "basenji                             7\n",
       "German_short-haired_pointer         7\n",
       "tub                                 7\n",
       "hamster                             7\n",
       "swing                               7\n",
       "bloodhound                          7\n",
       "Norfolk_terrier                     7\n",
       "Brittany_spaniel                    7\n",
       "Saint_Bernard                       7\n",
       "home_theater                        6\n",
       "llama                               6\n",
       "ice_bear                            6\n",
       "Irish_terrier                       6\n",
       "Irish_setter                        6\n",
       "car_mirror                          6\n",
       "Dandie_Dinmont                      6\n",
       "redbone                             6\n",
       "porcupine                           5\n",
       "shopping_cart                       5\n",
       "Tibetan_mastiff                     5\n",
       "Walker_hound                        5\n",
       "bull_mastiff                        5\n",
       "Lhasa                               5\n",
       "ox                                  5\n",
       "minivan                             5\n",
       "Bedlington_terrier                  5\n",
       "hippopotamus                        5\n",
       "Newfoundland                        5\n",
       "brown_bear                          4\n",
       "hog                                 4\n",
       "bow_tie                             4\n",
       "keeshond                            4\n",
       "wombat                              4\n",
       "Norwich_terrier                     4\n",
       "jigsaw_puzzle                       4\n",
       "barrow                              4\n",
       "miniature_schnauzer                 4\n",
       "Rhodesian_ridgeback                 4\n",
       "Arctic_fox                          4\n",
       "patio                               4\n",
       "Mexican_hairless                    4\n",
       "bluetick                            4\n",
       "Gordon_setter                       4\n",
       "Afghan_hound                        4\n",
       "Saluki                              4\n",
       "bathtub                             4\n",
       "Weimaraner                          4\n",
       "guinea_pig                          4\n",
       "Tibetan_terrier                     4\n",
       "goose                               4\n",
       "balloon                             3\n",
       "muzzle                              3\n",
       "briard                              3\n",
       "prison                              3\n",
       "wood_rabbit                         3\n",
       "mousetrap                           3\n",
       "Greater_Swiss_Mountain_dog          3\n",
       "refrigerator                        3\n",
       "sea_lion                            3\n",
       "toilet_tissue                       3\n",
       "stone_wall                          3\n",
       "white_wolf                          3\n",
       "Leonberg                            3\n",
       "motor_scooter                       3\n",
       "space_heater                        3\n",
       "ram                                 3\n",
       "cowboy_hat                          3\n",
       "Irish_water_spaniel                 3\n",
       "Scottish_deerhound                  3\n",
       "dishwasher                          3\n",
       "Welsh_springer_spaniel              3\n",
       "vacuum                              3\n",
       "triceratops                         3\n",
       "Christmas_stocking                  3\n",
       "komondor                            3\n",
       "ski_mask                            3\n",
       "common_iguana                       3\n",
       "washbasin                           3\n",
       "curly-coated_retriever              3\n",
       "Arabian_camel                       3\n",
       "cairn                               3\n",
       "window_shade                        3\n",
       "Ibizan_hound                        3\n",
       "jack-o'-lantern                     3\n",
       "comic_book                          3\n",
       "seashore                            3\n",
       "Brabancon_griffon                   3\n",
       "giant_schnauzer                     3\n",
       "gas_pump                            2\n",
       "jellyfish                           2\n",
       "shower_curtain                      2\n",
       "lakeside                            2\n",
       "black-and-tan_coonhound             2\n",
       "tusker                              2\n",
       "bustard                             2\n",
       "acorn_squash                        2\n",
       "hen                                 2\n",
       "paper_towel                         2\n",
       "koala                               2\n",
       "bubble                              2\n",
       "leatherback_turtle                  2\n",
       "Angora                              2\n",
       "wire-haired_fox_terrier             2\n",
       "cash_machine                        2\n",
       "wallaby                             2\n",
       "paddle                              2\n",
       "frilled_lizard                      2\n",
       "street_sign                         2\n",
       "toyshop                             2\n",
       "dough                               2\n",
       "upright                             2\n",
       "birdhouse                           2\n",
       "tabby                               2\n",
       "axolotl                             2\n",
       "snorkel                             2\n",
       "dogsled                             2\n",
       "hermit_crab                         2\n",
       "snail                               2\n",
       "Australian_terrier                  2\n",
       "hyena                               2\n",
       "meerkat                             2\n",
       "toy_terrier                         2\n",
       "geyser                              2\n",
       "feather_boa                         2\n",
       "Loafer                              2\n",
       "Appenzeller                         2\n",
       "weasel                              2\n",
       "chimpanzee                          2\n",
       "laptop                              2\n",
       "badger                              2\n",
       "sorrel                              2\n",
       "Sussex_spaniel                      2\n",
       "wool                                2\n",
       "ostrich                             2\n",
       "box_turtle                          2\n",
       "gondola                             2\n",
       "tiger_shark                         1\n",
       "bib                                 1\n",
       "binoculars                          1\n",
       "sulphur-crested_cockatoo            1\n",
       "coil                                1\n",
       "agama                               1\n",
       "wild_boar                           1\n",
       "traffic_light                       1\n",
       "hotdog                              1\n",
       "handkerchief                        1\n",
       "espresso                            1\n",
       "cup                                 1\n",
       "bonnet                              1\n",
       "polecat                             1\n",
       "alp                                 1\n",
       "coho                                1\n",
       "hammer                              1\n",
       "studio_couch                        1\n",
       "cliff                               1\n",
       "timber_wolf                         1\n",
       "nail                                1\n",
       "lawn_mower                          1\n",
       "three-toed_sloth                    1\n",
       "sunglasses                          1\n",
       "desktop_computer                    1\n",
       "rapeseed                            1\n",
       "hand_blower                         1\n",
       "peacock                             1\n",
       "American_black_bear                 1\n",
       "loupe                               1\n",
       "school_bus                          1\n",
       "cowboy_boot                         1\n",
       "jersey                              1\n",
       "wooden_spoon                        1\n",
       "leopard                             1\n",
       "mortarboard                         1\n",
       "teapot                              1\n",
       "military_uniform                    1\n",
       "washer                              1\n",
       "coffee_mug                          1\n",
       "fountain                            1\n",
       "pencil_box                          1\n",
       "barbell                             1\n",
       "grille                              1\n",
       "revolver                            1\n",
       "envelope                            1\n",
       "syringe                             1\n",
       "marmot                              1\n",
       "pole                                1\n",
       "basketball                          1\n",
       "tricycle                            1\n",
       "convertible                         1\n",
       "limousine                           1\n",
       "restaurant                          1\n",
       "shield                              1\n",
       "rotisserie                          1\n",
       "bookcase                            1\n",
       "conch                               1\n",
       "skunk                               1\n",
       "bookshop                            1\n",
       "radio_telescope                     1\n",
       "cougar                              1\n",
       "African_grey                        1\n",
       "coral_reef                          1\n",
       "lion                                1\n",
       "maillot                             1\n",
       "Madagascar_cat                      1\n",
       "Egyptian_cat                        1\n",
       "silky_terrier                       1\n",
       "giant_panda                         1\n",
       "long-horned_beetle                  1\n",
       "clumber                             1\n",
       "sundial                             1\n",
       "padlock                             1\n",
       "pool_table                          1\n",
       "quilt                               1\n",
       "beach_wagon                         1\n",
       "remote_control                      1\n",
       "bakery                              1\n",
       "pedestal                            1\n",
       "four-poster                         1\n",
       "cheeseburger                        1\n",
       "otter                               1\n",
       "suit                                1\n",
       "killer_whale                        1\n",
       "terrapin                            1\n",
       "cuirass                             1\n",
       "microwave                           1\n",
       "starfish                            1\n",
       "sandbar                             1\n",
       "leaf_beetle                         1\n",
       "lynx                                1\n",
       "water_bottle                        1\n",
       "toilet_seat                         1\n",
       "shopping_basket                     1\n",
       "robin                               1\n",
       "crash_helmet                        1\n",
       "slug                                1\n",
       "soccer_ball                         1\n",
       "African_crocodile                   1\n",
       "tick                                1\n",
       "ocarina                             1\n",
       "bearskin                            1\n",
       "bow                                 1\n",
       "carton                              1\n",
       "candle                              1\n",
       "bee_eater                           1\n",
       "china_cabinet                       1\n",
       "banana                              1\n",
       "dhole                               1\n",
       "sea_urchin                          1\n",
       "lacewing                            1\n",
       "ping-pong_ball                      1\n",
       "platypus                            1\n",
       "scorpion                            1\n",
       "flamingo                            1\n",
       "microphone                          1\n",
       "mud_turtle                          1\n",
       "pitcher                             1\n",
       "African_hunting_dog                 1\n",
       "boathouse                           1\n",
       "picket_fence                        1\n",
       "pot                                 1\n",
       "zebra                               1\n",
       "piggy_bank                          1\n",
       "park_bench                          1\n",
       "prayer_rug                          1\n",
       "stove                               1\n",
       "king_penguin                        1\n",
       "tailed_frog                         1\n",
       "snowmobile                          1\n",
       "ibex                                1\n",
       "electric_fan                        1\n",
       "sliding_door                        1\n",
       "damselfly                           1\n",
       "hare                                1\n",
       "fiddler_crab                        1\n",
       "bannister                           1\n",
       "crane                               1\n",
       "Scotch_terrier                      1\n",
       "bighorn                             1\n",
       "standard_schnauzer                  1\n",
       "bison                               1\n",
       "ice_lolly                           1\n",
       "hay                                 1\n",
       "dining_table                        1\n",
       "groenendael                         1\n",
       "beaver                              1\n",
       "swab                                1\n",
       "grey_fox                            1\n",
       "hummingbird                         1\n",
       "clog                                1\n",
       "fire_engine                         1\n",
       "minibus                             1\n",
       "cheetah                             1\n",
       "walking_stick                       1\n",
       "canoe                               1\n",
       "trombone                            1\n",
       "book_jacket                         1\n",
       "rain_barrel                         1\n",
       "black-footed_ferret                 1\n",
       "guenon                              1\n",
       "Japanese_spaniel                    1\n",
       "water_buffalo                       1\n",
       "maze                                1\n",
       "harp                                1\n",
       "panpipe                             1\n",
       "mailbox                             1\n",
       "EntleBucher                         1\n",
       "earthstar                           1\n",
       "pillow                              1\n",
       "carousel                            1\n",
       "bald_eagle                          1\n",
       "lorikeet                            1\n",
       "orange                              1\n",
       "Name: count, dtype: int64"
      ]
     },
     "execution_count": 455,
     "metadata": {},
     "output_type": "execute_result"
    }
   ],
   "source": [
    "images['p1'].value_counts()"
   ]
  },
  {
   "cell_type": "markdown",
   "metadata": {},
   "source": [
    "#### There are lots of values that contain uppercase letters and underscores instead of spaces in columns \"p1\", \"p2\", \"p3\"."
   ]
  },
  {
   "cell_type": "markdown",
   "metadata": {},
   "source": [
    "### Tweets"
   ]
  },
  {
   "cell_type": "code",
   "execution_count": 456,
   "metadata": {},
   "outputs": [
    {
     "name": "stdout",
     "output_type": "stream",
     "text": [
      "<class 'pandas.core.frame.DataFrame'>\n",
      "RangeIndex: 2354 entries, 0 to 2353\n",
      "Data columns (total 31 columns):\n",
      " #   Column                         Non-Null Count  Dtype              \n",
      "---  ------                         --------------  -----              \n",
      " 0   created_at                     2354 non-null   datetime64[ns, UTC]\n",
      " 1   id                             2354 non-null   int64              \n",
      " 2   id_str                         2354 non-null   int64              \n",
      " 3   full_text                      2354 non-null   object             \n",
      " 4   truncated                      2354 non-null   bool               \n",
      " 5   display_text_range             2354 non-null   object             \n",
      " 6   entities                       2354 non-null   object             \n",
      " 7   extended_entities              2073 non-null   object             \n",
      " 8   source                         2354 non-null   object             \n",
      " 9   in_reply_to_status_id          78 non-null     float64            \n",
      " 10  in_reply_to_status_id_str      78 non-null     float64            \n",
      " 11  in_reply_to_user_id            78 non-null     float64            \n",
      " 12  in_reply_to_user_id_str        78 non-null     float64            \n",
      " 13  in_reply_to_screen_name        78 non-null     object             \n",
      " 14  user                           2354 non-null   object             \n",
      " 15  geo                            0 non-null      float64            \n",
      " 16  coordinates                    0 non-null      float64            \n",
      " 17  place                          1 non-null      object             \n",
      " 18  contributors                   0 non-null      float64            \n",
      " 19  is_quote_status                2354 non-null   bool               \n",
      " 20  retweet_count                  2354 non-null   int64              \n",
      " 21  favorite_count                 2354 non-null   int64              \n",
      " 22  favorited                      2354 non-null   bool               \n",
      " 23  retweeted                      2354 non-null   bool               \n",
      " 24  possibly_sensitive             2211 non-null   float64            \n",
      " 25  possibly_sensitive_appealable  2211 non-null   float64            \n",
      " 26  lang                           2354 non-null   object             \n",
      " 27  retweeted_status               179 non-null    object             \n",
      " 28  quoted_status_id               29 non-null     float64            \n",
      " 29  quoted_status_id_str           29 non-null     float64            \n",
      " 30  quoted_status                  28 non-null     object             \n",
      "dtypes: bool(4), datetime64[ns, UTC](1), float64(11), int64(4), object(11)\n",
      "memory usage: 505.9+ KB\n"
     ]
    }
   ],
   "source": [
    "tweets.info()"
   ]
  },
  {
   "cell_type": "markdown",
   "metadata": {},
   "source": [
    "#### There are lots of completely or almost completely null values in the tweets data set. The \"id\" column name does not match the \"tweet_id\" column name which will cause problems with joining the datasets.\n",
    "\n",
    "#### We also see that there are 179 tweets that are retweeted meaning they are duplicates."
   ]
  },
  {
   "cell_type": "markdown",
   "metadata": {},
   "source": [
    "## Issues\n",
    "\n",
    "### Quality issues\n",
    "\n",
    "#### Archive Dataset\n",
    "\n",
    "1. There are several instances of duplicated rows through retweets.\n",
    "\n",
    "2. There are values in the name column that are not names such as \"a\", \"an\", \"such\", \"the\", \"officially\", \"actually\", \"quite\", etc.\n",
    "\n",
    "3. There are names that are not correct such as \"O\" instead of \"O'Malley\"\n",
    "\n",
    "4. There are rows with two types of dogs (ex: doggo and pupper)\n",
    "\n",
    "#### Images Dataset\n",
    "\n",
    "5. The values in columns p1, p2, and p3 need to be standardized with all lowercase characters and \" \"s instead of \"_\"s\n",
    "\n",
    "#### Tweets Dataset\n",
    "\n",
    "6. Duplicates involved with retweets\n",
    "\n",
    "7. The column name \"id\" does not match the \"tweet_id\" columns in the other two datasets, this should be changed to ensure a join will work\n",
    "\n",
    "8. All unecessary columns will need to be removed from each dataset\n",
    "\n"
   ]
  },
  {
   "cell_type": "markdown",
   "metadata": {
    "extensions": {
     "jupyter_dashboards": {
      "version": 1,
      "views": {
       "grid_default": {
        "col": 0,
        "height": 7,
        "hidden": false,
        "row": 40,
        "width": 12
       },
       "report_default": {
        "hidden": false
       }
      }
     }
    }
   },
   "source": [
    "### Tidiness issues\n",
    "#### Archive Dataset\n",
    "1. Instead of having one column that stores the type of dog there are 4 columns. Each column variable either has the type of the dog stored to indicate that is what the type is, or none.\n",
    "\n",
    "2. Instead of having a \"rating numerator\" and \"rating denominator\" columns it would make more sense to divide the numerator by the denominator and store the value as a float to perform mathematical analyses."
   ]
  },
  {
   "cell_type": "markdown",
   "metadata": {
    "extensions": {
     "jupyter_dashboards": {
      "version": 1,
      "views": {
       "grid_default": {
        "col": 4,
        "height": 4,
        "hidden": false,
        "row": 32,
        "width": 4
       },
       "report_default": {
        "hidden": false
       }
      }
     }
    }
   },
   "source": [
    "## Cleaning Data\n",
    "In this section, clean **all** of the issues you documented while assessing. \n",
    "\n",
    "**Note:** Make a copy of the original data before cleaning. Cleaning includes merging individual pieces of data according to the rules of [tidy data](https://cran.r-project.org/web/packages/tidyr/vignettes/tidy-data.html). The result should be a high-quality and tidy master pandas DataFrame (or DataFrames, if appropriate)."
   ]
  },
  {
   "cell_type": "code",
   "execution_count": 457,
   "metadata": {},
   "outputs": [],
   "source": [
    "# Make copies of original pieces of data\n",
    "archive_clean = archive.copy()\n",
    "images_clean = images.copy()\n",
    "tweets_clean = tweets.copy()\n"
   ]
  },
  {
   "cell_type": "markdown",
   "metadata": {},
   "source": [
    "## Archive Dataset"
   ]
  },
  {
   "cell_type": "markdown",
   "metadata": {},
   "source": [
    "### Quality Issues"
   ]
  },
  {
   "cell_type": "markdown",
   "metadata": {},
   "source": [
    "### Issue #1: Duplicated Rows from Retweets"
   ]
  },
  {
   "cell_type": "markdown",
   "metadata": {},
   "source": [
    "#### Define: Remove all rows where \"retweeted_status_id\" is not null and drop \"retweeted_status_id\", \"retweeted_status_user_id\", and \"retweeted_status_timestamp\" columns"
   ]
  },
  {
   "cell_type": "markdown",
   "metadata": {},
   "source": [
    "#### Code"
   ]
  },
  {
   "cell_type": "code",
   "execution_count": 458,
   "metadata": {},
   "outputs": [],
   "source": [
    "archive_clean = archive_clean[archive_clean['retweeted_status_id'].isna()]\n",
    "archive_clean.drop(['retweeted_status_id', 'retweeted_status_user_id', 'retweeted_status_timestamp'], axis = 1, inplace = True)"
   ]
  },
  {
   "cell_type": "markdown",
   "metadata": {},
   "source": [
    "#### Test"
   ]
  },
  {
   "cell_type": "code",
   "execution_count": 459,
   "metadata": {},
   "outputs": [
    {
     "name": "stdout",
     "output_type": "stream",
     "text": [
      "<class 'pandas.core.frame.DataFrame'>\n",
      "Index: 2175 entries, 0 to 2355\n",
      "Data columns (total 14 columns):\n",
      " #   Column                 Non-Null Count  Dtype  \n",
      "---  ------                 --------------  -----  \n",
      " 0   tweet_id               2175 non-null   int64  \n",
      " 1   in_reply_to_status_id  78 non-null     float64\n",
      " 2   in_reply_to_user_id    78 non-null     float64\n",
      " 3   timestamp              2175 non-null   object \n",
      " 4   source                 2175 non-null   object \n",
      " 5   text                   2175 non-null   object \n",
      " 6   expanded_urls          2117 non-null   object \n",
      " 7   rating_numerator       2175 non-null   int64  \n",
      " 8   rating_denominator     2175 non-null   int64  \n",
      " 9   name                   1495 non-null   object \n",
      " 10  doggo                  87 non-null     object \n",
      " 11  floofer                10 non-null     object \n",
      " 12  pupper                 234 non-null    object \n",
      " 13  puppo                  25 non-null     object \n",
      "dtypes: float64(2), int64(3), object(9)\n",
      "memory usage: 254.9+ KB\n"
     ]
    }
   ],
   "source": [
    "archive_clean.info()"
   ]
  },
  {
   "cell_type": "markdown",
   "metadata": {},
   "source": [
    "### Issue #2: Values in name column that aren't names"
   ]
  },
  {
   "cell_type": "markdown",
   "metadata": {},
   "source": [
    "#### Define: Locate every value in the column that contains no uppercase letters and replace them with \"NaN\""
   ]
  },
  {
   "cell_type": "markdown",
   "metadata": {},
   "source": [
    "#### Code"
   ]
  },
  {
   "cell_type": "code",
   "execution_count": 460,
   "metadata": {},
   "outputs": [
    {
     "name": "stderr",
     "output_type": "stream",
     "text": [
      "C:\\Users\\sirco\\AppData\\Local\\Temp\\ipykernel_18816\\3758502267.py:1: SettingWithCopyWarning: \n",
      "A value is trying to be set on a copy of a slice from a DataFrame\n",
      "\n",
      "See the caveats in the documentation: https://pandas.pydata.org/pandas-docs/stable/user_guide/indexing.html#returning-a-view-versus-a-copy\n",
      "  archive_clean['name'].loc[map(lambda x: x.islower() and x != 'nan', archive_clean['name'].astype(str))] = 'NaN'\n"
     ]
    }
   ],
   "source": [
    "archive_clean['name'].loc[map(lambda x: x.islower() and x != 'nan', archive_clean['name'].astype(str))] = 'NaN'"
   ]
  },
  {
   "cell_type": "markdown",
   "metadata": {},
   "source": [
    "#### Test"
   ]
  },
  {
   "cell_type": "code",
   "execution_count": 461,
   "metadata": {},
   "outputs": [
    {
     "name": "stdout",
     "output_type": "stream",
     "text": [
      "0\n"
     ]
    }
   ],
   "source": [
    "# If the code worked this should return 0\n",
    "non_name_count = 0\n",
    "lc_names = list(map(lambda x: x.islower() and x != 'nan', archive_clean['name'].astype(str)))\n",
    "for n in lc_names:\n",
    "    if n == True:\n",
    "        non_name_count += 1\n",
    "\n",
    "print(non_name_count)"
   ]
  },
  {
   "cell_type": "markdown",
   "metadata": {},
   "source": [
    "### Issue #3: There are names that are not correct such as \"O\" instead of \"O'Malley\""
   ]
  },
  {
   "cell_type": "markdown",
   "metadata": {
    "collapsed": true,
    "extensions": {
     "jupyter_dashboards": {
      "version": 1,
      "views": {
       "grid_default": {
        "hidden": true
       },
       "report_default": {
        "hidden": true
       }
      }
     }
    }
   },
   "source": [
    "#### Define: Locate the row with the incorrect name and fix it."
   ]
  },
  {
   "cell_type": "markdown",
   "metadata": {},
   "source": [
    "#### Code"
   ]
  },
  {
   "cell_type": "code",
   "execution_count": 462,
   "metadata": {},
   "outputs": [],
   "source": [
    "archive_clean['name'].replace('O', \"O'Malley\", inplace = True)"
   ]
  },
  {
   "cell_type": "markdown",
   "metadata": {},
   "source": [
    "#### Test"
   ]
  },
  {
   "cell_type": "code",
   "execution_count": 463,
   "metadata": {},
   "outputs": [
    {
     "data": {
      "text/html": [
       "<div>\n",
       "<style scoped>\n",
       "    .dataframe tbody tr th:only-of-type {\n",
       "        vertical-align: middle;\n",
       "    }\n",
       "\n",
       "    .dataframe tbody tr th {\n",
       "        vertical-align: top;\n",
       "    }\n",
       "\n",
       "    .dataframe thead th {\n",
       "        text-align: right;\n",
       "    }\n",
       "</style>\n",
       "<table border=\"1\" class=\"dataframe\">\n",
       "  <thead>\n",
       "    <tr style=\"text-align: right;\">\n",
       "      <th></th>\n",
       "      <th>tweet_id</th>\n",
       "      <th>in_reply_to_status_id</th>\n",
       "      <th>in_reply_to_user_id</th>\n",
       "      <th>timestamp</th>\n",
       "      <th>source</th>\n",
       "      <th>text</th>\n",
       "      <th>expanded_urls</th>\n",
       "      <th>rating_numerator</th>\n",
       "      <th>rating_denominator</th>\n",
       "      <th>name</th>\n",
       "      <th>doggo</th>\n",
       "      <th>floofer</th>\n",
       "      <th>pupper</th>\n",
       "      <th>puppo</th>\n",
       "    </tr>\n",
       "  </thead>\n",
       "  <tbody>\n",
       "    <tr>\n",
       "      <th>775</th>\n",
       "      <td>776201521193218049</td>\n",
       "      <td>NaN</td>\n",
       "      <td>NaN</td>\n",
       "      <td>2016-09-14 23:30:38 +0000</td>\n",
       "      <td>&lt;a href=\"http://twitter.com/download/iphone\" rel=\"nofollow\"&gt;Twitter for iPhone&lt;/a&gt;</td>\n",
       "      <td>This is O'Malley. That is how he sleeps. Doesn't care what you think about it. 10/10 comfy af https://t.co/Pq150LeRaC</td>\n",
       "      <td>https://twitter.com/dog_rates/status/776201521193218049/photo/1</td>\n",
       "      <td>10</td>\n",
       "      <td>10</td>\n",
       "      <td>O'Malley</td>\n",
       "      <td>NaN</td>\n",
       "      <td>NaN</td>\n",
       "      <td>NaN</td>\n",
       "      <td>NaN</td>\n",
       "    </tr>\n",
       "  </tbody>\n",
       "</table>\n",
       "</div>"
      ],
      "text/plain": [
       "               tweet_id  in_reply_to_status_id  in_reply_to_user_id  \\\n",
       "775  776201521193218049                    NaN                  NaN   \n",
       "\n",
       "                     timestamp  \\\n",
       "775  2016-09-14 23:30:38 +0000   \n",
       "\n",
       "                                                                                 source  \\\n",
       "775  <a href=\"http://twitter.com/download/iphone\" rel=\"nofollow\">Twitter for iPhone</a>   \n",
       "\n",
       "                                                                                                                      text  \\\n",
       "775  This is O'Malley. That is how he sleeps. Doesn't care what you think about it. 10/10 comfy af https://t.co/Pq150LeRaC   \n",
       "\n",
       "                                                       expanded_urls  \\\n",
       "775  https://twitter.com/dog_rates/status/776201521193218049/photo/1   \n",
       "\n",
       "     rating_numerator  rating_denominator      name doggo floofer pupper puppo  \n",
       "775                10                  10  O'Malley   NaN     NaN    NaN   NaN  "
      ]
     },
     "execution_count": 463,
     "metadata": {},
     "output_type": "execute_result"
    }
   ],
   "source": [
    "archive_clean[archive_clean['name'] == \"O'Malley\"]"
   ]
  },
  {
   "cell_type": "markdown",
   "metadata": {},
   "source": [
    "### Tidiness Issue #1: Instead of having one column that stores the type of dog there are 4 columns. Each column variable either has the type of the dog stored to indicate that is what the type is, or none."
   ]
  },
  {
   "cell_type": "markdown",
   "metadata": {},
   "source": [
    "#### Define: Fill all NaN values with \"None\" and then convert the involved columns to string data type. Combine all columns into one type column. Drop the columns \"doggo\", \"floofer\", \"pupper\", and \"puppo\" as they are no longer needed. "
   ]
  },
  {
   "cell_type": "markdown",
   "metadata": {},
   "source": [
    "#### Code"
   ]
  },
  {
   "cell_type": "code",
   "execution_count": 464,
   "metadata": {},
   "outputs": [],
   "source": [
    "archive_clean['doggo'].fillna('None', inplace = True)\n",
    "archive_clean['floofer'].fillna('None', inplace = True)\n",
    "archive_clean['pupper'].fillna('None', inplace = True)\n",
    "archive_clean['puppo'].fillna('None', inplace = True)"
   ]
  },
  {
   "cell_type": "code",
   "execution_count": 465,
   "metadata": {},
   "outputs": [],
   "source": [
    "archive_clean['doggo'] = archive_clean['doggo'].astype('string')\n",
    "archive_clean['floofer'] = archive_clean['floofer'].astype('string')\n",
    "archive_clean['pupper'] = archive_clean['pupper'].astype('string')\n",
    "archive_clean['puppo'] = archive_clean['puppo'].astype('string')\n"
   ]
  },
  {
   "cell_type": "code",
   "execution_count": 466,
   "metadata": {},
   "outputs": [],
   "source": [
    "archive_clean['type'] = archive_clean['doggo'] + archive_clean['floofer'] + archive_clean['pupper'] + archive_clean['puppo']"
   ]
  },
  {
   "cell_type": "code",
   "execution_count": 467,
   "metadata": {},
   "outputs": [
    {
     "name": "stdout",
     "output_type": "stream",
     "text": [
      "<class 'pandas.core.frame.DataFrame'>\n",
      "Index: 2175 entries, 0 to 2355\n",
      "Data columns (total 15 columns):\n",
      " #   Column                 Non-Null Count  Dtype  \n",
      "---  ------                 --------------  -----  \n",
      " 0   tweet_id               2175 non-null   int64  \n",
      " 1   in_reply_to_status_id  78 non-null     float64\n",
      " 2   in_reply_to_user_id    78 non-null     float64\n",
      " 3   timestamp              2175 non-null   object \n",
      " 4   source                 2175 non-null   object \n",
      " 5   text                   2175 non-null   object \n",
      " 6   expanded_urls          2117 non-null   object \n",
      " 7   rating_numerator       2175 non-null   int64  \n",
      " 8   rating_denominator     2175 non-null   int64  \n",
      " 9   name                   1495 non-null   object \n",
      " 10  doggo                  2175 non-null   string \n",
      " 11  floofer                2175 non-null   string \n",
      " 12  pupper                 2175 non-null   string \n",
      " 13  puppo                  2175 non-null   string \n",
      " 14  type                   2175 non-null   string \n",
      "dtypes: float64(2), int64(3), object(5), string(5)\n",
      "memory usage: 271.9+ KB\n"
     ]
    }
   ],
   "source": [
    "archive_clean.info()"
   ]
  },
  {
   "cell_type": "code",
   "execution_count": 468,
   "metadata": {},
   "outputs": [],
   "source": [
    "archive_clean.drop(['doggo', 'floofer', 'pupper', 'puppo'], axis = 1, inplace = True)"
   ]
  },
  {
   "cell_type": "markdown",
   "metadata": {},
   "source": [
    "#### Test"
   ]
  },
  {
   "cell_type": "code",
   "execution_count": 469,
   "metadata": {},
   "outputs": [
    {
     "name": "stdout",
     "output_type": "stream",
     "text": [
      "<class 'pandas.core.frame.DataFrame'>\n",
      "Index: 2175 entries, 0 to 2355\n",
      "Data columns (total 11 columns):\n",
      " #   Column                 Non-Null Count  Dtype  \n",
      "---  ------                 --------------  -----  \n",
      " 0   tweet_id               2175 non-null   int64  \n",
      " 1   in_reply_to_status_id  78 non-null     float64\n",
      " 2   in_reply_to_user_id    78 non-null     float64\n",
      " 3   timestamp              2175 non-null   object \n",
      " 4   source                 2175 non-null   object \n",
      " 5   text                   2175 non-null   object \n",
      " 6   expanded_urls          2117 non-null   object \n",
      " 7   rating_numerator       2175 non-null   int64  \n",
      " 8   rating_denominator     2175 non-null   int64  \n",
      " 9   name                   1495 non-null   object \n",
      " 10  type                   2175 non-null   string \n",
      "dtypes: float64(2), int64(3), object(5), string(1)\n",
      "memory usage: 203.9+ KB\n"
     ]
    }
   ],
   "source": [
    "archive_clean.info()"
   ]
  },
  {
   "cell_type": "markdown",
   "metadata": {},
   "source": [
    "### Quality Issue #4: There are rows with two types of dogs (ex: doggo and pupper)"
   ]
  },
  {
   "cell_type": "code",
   "execution_count": 470,
   "metadata": {},
   "outputs": [
    {
     "data": {
      "text/plain": [
       "type\n",
       "NoneNoneNoneNone        1831\n",
       "NoneNonepupperNone       224\n",
       "doggoNoneNoneNone         75\n",
       "NoneNoneNonepuppo         24\n",
       "doggoNonepupperNone       10\n",
       "NoneflooferNoneNone        9\n",
       "doggoNoneNonepuppo         1\n",
       "doggoflooferNoneNone       1\n",
       "Name: count, dtype: Int64"
      ]
     },
     "execution_count": 470,
     "metadata": {},
     "output_type": "execute_result"
    }
   ],
   "source": [
    "archive_clean['type'].value_counts()"
   ]
  },
  {
   "cell_type": "markdown",
   "metadata": {},
   "source": [
    "#### Define: There are several instances of type values with multiple names. 10 instances of \"doggoNonepupperNone\", 1 instance of \"doggoNoneNonepuppo\", and 1 instance of \"doggoflooferNoneNone\". We'll have to examine each of these case-by-case to see what the correct value is."
   ]
  },
  {
   "cell_type": "code",
   "execution_count": 471,
   "metadata": {},
   "outputs": [
    {
     "data": {
      "text/plain": [
       "191    Here's a puppo participating in the #ScienceMarch. Cleverly disguising her own doggo agenda. 13/10 would keep the planet habitable for https://t.co/cMhq16isel\n",
       "Name: text, dtype: object"
      ]
     },
     "execution_count": 471,
     "metadata": {},
     "output_type": "execute_result"
    }
   ],
   "source": [
    "archive_clean.query('type == \"doggoNoneNonepuppo\"')['text']"
   ]
  },
  {
   "cell_type": "markdown",
   "metadata": {},
   "source": [
    "#### Code\n",
    "- We can clearly see from this instance that the type is \"puppo\" though the word \"doggo\" is used. We should set the type to \"puppo\""
   ]
  },
  {
   "cell_type": "code",
   "execution_count": 472,
   "metadata": {},
   "outputs": [],
   "source": [
    "archive_clean['type'].replace('doggoNoneNonepuppo', 'puppo', inplace = True)\n"
   ]
  },
  {
   "cell_type": "markdown",
   "metadata": {},
   "source": [
    "#### Test"
   ]
  },
  {
   "cell_type": "code",
   "execution_count": 473,
   "metadata": {},
   "outputs": [
    {
     "data": {
      "text/html": [
       "<div>\n",
       "<style scoped>\n",
       "    .dataframe tbody tr th:only-of-type {\n",
       "        vertical-align: middle;\n",
       "    }\n",
       "\n",
       "    .dataframe tbody tr th {\n",
       "        vertical-align: top;\n",
       "    }\n",
       "\n",
       "    .dataframe thead th {\n",
       "        text-align: right;\n",
       "    }\n",
       "</style>\n",
       "<table border=\"1\" class=\"dataframe\">\n",
       "  <thead>\n",
       "    <tr style=\"text-align: right;\">\n",
       "      <th></th>\n",
       "      <th>tweet_id</th>\n",
       "      <th>in_reply_to_status_id</th>\n",
       "      <th>in_reply_to_user_id</th>\n",
       "      <th>timestamp</th>\n",
       "      <th>source</th>\n",
       "      <th>text</th>\n",
       "      <th>expanded_urls</th>\n",
       "      <th>rating_numerator</th>\n",
       "      <th>rating_denominator</th>\n",
       "      <th>name</th>\n",
       "      <th>type</th>\n",
       "    </tr>\n",
       "  </thead>\n",
       "  <tbody>\n",
       "    <tr>\n",
       "      <th>191</th>\n",
       "      <td>855851453814013952</td>\n",
       "      <td>NaN</td>\n",
       "      <td>NaN</td>\n",
       "      <td>2017-04-22 18:31:02 +0000</td>\n",
       "      <td>&lt;a href=\"http://twitter.com/download/iphone\" rel=\"nofollow\"&gt;Twitter for iPhone&lt;/a&gt;</td>\n",
       "      <td>Here's a puppo participating in the #ScienceMarch. Cleverly disguising her own doggo agenda. 13/10 would keep the planet habitable for https://t.co/cMhq16isel</td>\n",
       "      <td>https://twitter.com/dog_rates/status/855851453814013952/photo/1</td>\n",
       "      <td>13</td>\n",
       "      <td>10</td>\n",
       "      <td>NaN</td>\n",
       "      <td>puppo</td>\n",
       "    </tr>\n",
       "  </tbody>\n",
       "</table>\n",
       "</div>"
      ],
      "text/plain": [
       "               tweet_id  in_reply_to_status_id  in_reply_to_user_id  \\\n",
       "191  855851453814013952                    NaN                  NaN   \n",
       "\n",
       "                     timestamp  \\\n",
       "191  2017-04-22 18:31:02 +0000   \n",
       "\n",
       "                                                                                 source  \\\n",
       "191  <a href=\"http://twitter.com/download/iphone\" rel=\"nofollow\">Twitter for iPhone</a>   \n",
       "\n",
       "                                                                                                                                                               text  \\\n",
       "191  Here's a puppo participating in the #ScienceMarch. Cleverly disguising her own doggo agenda. 13/10 would keep the planet habitable for https://t.co/cMhq16isel   \n",
       "\n",
       "                                                       expanded_urls  \\\n",
       "191  https://twitter.com/dog_rates/status/855851453814013952/photo/1   \n",
       "\n",
       "     rating_numerator  rating_denominator name   type  \n",
       "191                13                  10  NaN  puppo  "
      ]
     },
     "execution_count": 473,
     "metadata": {},
     "output_type": "execute_result"
    }
   ],
   "source": [
    "archive_clean.query('type == \"puppo\"')"
   ]
  },
  {
   "cell_type": "markdown",
   "metadata": {},
   "source": [
    "#### Define: Check \"doggoflooferNoneNone\" text column for correct answer"
   ]
  },
  {
   "cell_type": "code",
   "execution_count": 474,
   "metadata": {},
   "outputs": [
    {
     "data": {
      "text/plain": [
       "200    At first I thought this was a shy doggo, but it's actually a Rare Canadian Floofer Owl. Amateurs would confuse the two. 11/10 only send dogs https://t.co/TXdT3tmuYk\n",
       "Name: text, dtype: object"
      ]
     },
     "execution_count": 474,
     "metadata": {},
     "output_type": "execute_result"
    }
   ],
   "source": [
    "archive_clean.query('type == \"doggoflooferNoneNone\"')['text']"
   ]
  },
  {
   "cell_type": "markdown",
   "metadata": {},
   "source": [
    "#### Code"
   ]
  },
  {
   "cell_type": "markdown",
   "metadata": {},
   "source": [
    "- This type is obviously \"floofer\" based on the text"
   ]
  },
  {
   "cell_type": "code",
   "execution_count": 475,
   "metadata": {},
   "outputs": [],
   "source": [
    "archive_clean['type'].replace('doggoflooferNoneNone', 'floofer', inplace = True)"
   ]
  },
  {
   "cell_type": "markdown",
   "metadata": {},
   "source": [
    "#### Test"
   ]
  },
  {
   "cell_type": "code",
   "execution_count": 476,
   "metadata": {},
   "outputs": [
    {
     "data": {
      "text/html": [
       "<div>\n",
       "<style scoped>\n",
       "    .dataframe tbody tr th:only-of-type {\n",
       "        vertical-align: middle;\n",
       "    }\n",
       "\n",
       "    .dataframe tbody tr th {\n",
       "        vertical-align: top;\n",
       "    }\n",
       "\n",
       "    .dataframe thead th {\n",
       "        text-align: right;\n",
       "    }\n",
       "</style>\n",
       "<table border=\"1\" class=\"dataframe\">\n",
       "  <thead>\n",
       "    <tr style=\"text-align: right;\">\n",
       "      <th></th>\n",
       "      <th>tweet_id</th>\n",
       "      <th>in_reply_to_status_id</th>\n",
       "      <th>in_reply_to_user_id</th>\n",
       "      <th>timestamp</th>\n",
       "      <th>source</th>\n",
       "      <th>text</th>\n",
       "      <th>expanded_urls</th>\n",
       "      <th>rating_numerator</th>\n",
       "      <th>rating_denominator</th>\n",
       "      <th>name</th>\n",
       "      <th>type</th>\n",
       "    </tr>\n",
       "  </thead>\n",
       "  <tbody>\n",
       "    <tr>\n",
       "      <th>200</th>\n",
       "      <td>854010172552949760</td>\n",
       "      <td>NaN</td>\n",
       "      <td>NaN</td>\n",
       "      <td>2017-04-17 16:34:26 +0000</td>\n",
       "      <td>&lt;a href=\"http://twitter.com/download/iphone\" rel=\"nofollow\"&gt;Twitter for iPhone&lt;/a&gt;</td>\n",
       "      <td>At first I thought this was a shy doggo, but it's actually a Rare Canadian Floofer Owl. Amateurs would confuse the two. 11/10 only send dogs https://t.co/TXdT3tmuYk</td>\n",
       "      <td>https://twitter.com/dog_rates/status/854010172552949760/photo/1,https://twitter.com/dog_rates/status/854010172552949760/photo/1</td>\n",
       "      <td>11</td>\n",
       "      <td>10</td>\n",
       "      <td>NaN</td>\n",
       "      <td>floofer</td>\n",
       "    </tr>\n",
       "  </tbody>\n",
       "</table>\n",
       "</div>"
      ],
      "text/plain": [
       "               tweet_id  in_reply_to_status_id  in_reply_to_user_id  \\\n",
       "200  854010172552949760                    NaN                  NaN   \n",
       "\n",
       "                     timestamp  \\\n",
       "200  2017-04-17 16:34:26 +0000   \n",
       "\n",
       "                                                                                 source  \\\n",
       "200  <a href=\"http://twitter.com/download/iphone\" rel=\"nofollow\">Twitter for iPhone</a>   \n",
       "\n",
       "                                                                                                                                                                     text  \\\n",
       "200  At first I thought this was a shy doggo, but it's actually a Rare Canadian Floofer Owl. Amateurs would confuse the two. 11/10 only send dogs https://t.co/TXdT3tmuYk   \n",
       "\n",
       "                                                                                                                       expanded_urls  \\\n",
       "200  https://twitter.com/dog_rates/status/854010172552949760/photo/1,https://twitter.com/dog_rates/status/854010172552949760/photo/1   \n",
       "\n",
       "     rating_numerator  rating_denominator name     type  \n",
       "200                11                  10  NaN  floofer  "
      ]
     },
     "execution_count": 476,
     "metadata": {},
     "output_type": "execute_result"
    }
   ],
   "source": [
    "archive_clean.query('type == \"floofer\"')"
   ]
  },
  {
   "cell_type": "markdown",
   "metadata": {},
   "source": [
    "#### Define: Investigate the \"doggoNonepupperNone\" values"
   ]
  },
  {
   "cell_type": "code",
   "execution_count": 477,
   "metadata": {},
   "outputs": [
    {
     "data": {
      "text/html": [
       "<div>\n",
       "<style scoped>\n",
       "    .dataframe tbody tr th:only-of-type {\n",
       "        vertical-align: middle;\n",
       "    }\n",
       "\n",
       "    .dataframe tbody tr th {\n",
       "        vertical-align: top;\n",
       "    }\n",
       "\n",
       "    .dataframe thead th {\n",
       "        text-align: right;\n",
       "    }\n",
       "</style>\n",
       "<table border=\"1\" class=\"dataframe\">\n",
       "  <thead>\n",
       "    <tr style=\"text-align: right;\">\n",
       "      <th></th>\n",
       "      <th>tweet_id</th>\n",
       "      <th>in_reply_to_status_id</th>\n",
       "      <th>in_reply_to_user_id</th>\n",
       "      <th>timestamp</th>\n",
       "      <th>source</th>\n",
       "      <th>text</th>\n",
       "      <th>expanded_urls</th>\n",
       "      <th>rating_numerator</th>\n",
       "      <th>rating_denominator</th>\n",
       "      <th>name</th>\n",
       "      <th>type</th>\n",
       "    </tr>\n",
       "  </thead>\n",
       "  <tbody>\n",
       "    <tr>\n",
       "      <th>460</th>\n",
       "      <td>817777686764523521</td>\n",
       "      <td>NaN</td>\n",
       "      <td>NaN</td>\n",
       "      <td>2017-01-07 16:59:28 +0000</td>\n",
       "      <td>&lt;a href=\"http://twitter.com/download/iphone\" rel=\"nofollow\"&gt;Twitter for iPhone&lt;/a&gt;</td>\n",
       "      <td>This is Dido. She's playing the lead role in \"Pupper Stops to Catch Snow Before Resuming Shadow Box with Dried Apple.\" 13/10 (IG: didodoggo) https://t.co/m7isZrOBX7</td>\n",
       "      <td>https://twitter.com/dog_rates/status/817777686764523521/video/1</td>\n",
       "      <td>13</td>\n",
       "      <td>10</td>\n",
       "      <td>Dido</td>\n",
       "      <td>doggoNonepupperNone</td>\n",
       "    </tr>\n",
       "    <tr>\n",
       "      <th>531</th>\n",
       "      <td>808106460588765185</td>\n",
       "      <td>NaN</td>\n",
       "      <td>NaN</td>\n",
       "      <td>2016-12-12 00:29:28 +0000</td>\n",
       "      <td>&lt;a href=\"http://twitter.com/download/iphone\" rel=\"nofollow\"&gt;Twitter for iPhone&lt;/a&gt;</td>\n",
       "      <td>Here we have Burke (pupper) and Dexter (doggo). Pupper wants to be exactly like doggo. Both 12/10 would pet at same time https://t.co/ANBpEYHaho</td>\n",
       "      <td>https://twitter.com/dog_rates/status/808106460588765185/photo/1</td>\n",
       "      <td>12</td>\n",
       "      <td>10</td>\n",
       "      <td>NaN</td>\n",
       "      <td>doggoNonepupperNone</td>\n",
       "    </tr>\n",
       "    <tr>\n",
       "      <th>565</th>\n",
       "      <td>802265048156610565</td>\n",
       "      <td>7.331095e+17</td>\n",
       "      <td>4.196984e+09</td>\n",
       "      <td>2016-11-25 21:37:47 +0000</td>\n",
       "      <td>&lt;a href=\"http://twitter.com/download/iphone\" rel=\"nofollow\"&gt;Twitter for iPhone&lt;/a&gt;</td>\n",
       "      <td>Like doggo, like pupper version 2. Both 11/10 https://t.co/9IxWAXFqze</td>\n",
       "      <td>https://twitter.com/dog_rates/status/802265048156610565/photo/1</td>\n",
       "      <td>11</td>\n",
       "      <td>10</td>\n",
       "      <td>NaN</td>\n",
       "      <td>doggoNonepupperNone</td>\n",
       "    </tr>\n",
       "    <tr>\n",
       "      <th>575</th>\n",
       "      <td>801115127852503040</td>\n",
       "      <td>NaN</td>\n",
       "      <td>NaN</td>\n",
       "      <td>2016-11-22 17:28:25 +0000</td>\n",
       "      <td>&lt;a href=\"http://twitter.com/download/iphone\" rel=\"nofollow\"&gt;Twitter for iPhone&lt;/a&gt;</td>\n",
       "      <td>This is Bones. He's being haunted by another doggo of roughly the same size. 12/10 deep breaths pupper everything's fine https://t.co/55Dqe0SJNj</td>\n",
       "      <td>https://twitter.com/dog_rates/status/801115127852503040/photo/1,https://twitter.com/dog_rates/status/801115127852503040/photo/1</td>\n",
       "      <td>12</td>\n",
       "      <td>10</td>\n",
       "      <td>Bones</td>\n",
       "      <td>doggoNonepupperNone</td>\n",
       "    </tr>\n",
       "    <tr>\n",
       "      <th>705</th>\n",
       "      <td>785639753186217984</td>\n",
       "      <td>NaN</td>\n",
       "      <td>NaN</td>\n",
       "      <td>2016-10-11 00:34:48 +0000</td>\n",
       "      <td>&lt;a href=\"http://twitter.com/download/iphone\" rel=\"nofollow\"&gt;Twitter for iPhone&lt;/a&gt;</td>\n",
       "      <td>This is Pinot. He's a sophisticated doggo. You can tell by the hat. Also pointier than your average pupper. Still 10/10 would pet cautiously https://t.co/f2wmLZTPHd</td>\n",
       "      <td>https://twitter.com/dog_rates/status/785639753186217984/photo/1,https://twitter.com/dog_rates/status/785639753186217984/photo/1</td>\n",
       "      <td>10</td>\n",
       "      <td>10</td>\n",
       "      <td>Pinot</td>\n",
       "      <td>doggoNonepupperNone</td>\n",
       "    </tr>\n",
       "    <tr>\n",
       "      <th>733</th>\n",
       "      <td>781308096455073793</td>\n",
       "      <td>NaN</td>\n",
       "      <td>NaN</td>\n",
       "      <td>2016-09-29 01:42:20 +0000</td>\n",
       "      <td>&lt;a href=\"http://vine.co\" rel=\"nofollow\"&gt;Vine - Make a Scene&lt;/a&gt;</td>\n",
       "      <td>Pupper butt 1, Doggo 0. Both 12/10 https://t.co/WQvcPEpH2u</td>\n",
       "      <td>https://vine.co/v/5rgu2Law2ut</td>\n",
       "      <td>12</td>\n",
       "      <td>10</td>\n",
       "      <td>NaN</td>\n",
       "      <td>doggoNonepupperNone</td>\n",
       "    </tr>\n",
       "    <tr>\n",
       "      <th>889</th>\n",
       "      <td>759793422261743616</td>\n",
       "      <td>NaN</td>\n",
       "      <td>NaN</td>\n",
       "      <td>2016-07-31 16:50:42 +0000</td>\n",
       "      <td>&lt;a href=\"http://twitter.com/download/iphone\" rel=\"nofollow\"&gt;Twitter for iPhone&lt;/a&gt;</td>\n",
       "      <td>Meet Maggie &amp;amp; Lila. Maggie is the doggo, Lila is the pupper. They are sisters. Both 12/10 would pet at the same time https://t.co/MYwR4DQKll</td>\n",
       "      <td>https://twitter.com/dog_rates/status/759793422261743616/photo/1,https://twitter.com/dog_rates/status/759793422261743616/photo/1</td>\n",
       "      <td>12</td>\n",
       "      <td>10</td>\n",
       "      <td>Maggie</td>\n",
       "      <td>doggoNonepupperNone</td>\n",
       "    </tr>\n",
       "    <tr>\n",
       "      <th>956</th>\n",
       "      <td>751583847268179968</td>\n",
       "      <td>NaN</td>\n",
       "      <td>NaN</td>\n",
       "      <td>2016-07-09 01:08:47 +0000</td>\n",
       "      <td>&lt;a href=\"http://twitter.com/download/iphone\" rel=\"nofollow\"&gt;Twitter for iPhone&lt;/a&gt;</td>\n",
       "      <td>Please stop sending it pictures that don't even have a doggo or pupper in them. Churlish af. 5/10 neat couch tho https://t.co/u2c9c7qSg8</td>\n",
       "      <td>https://twitter.com/dog_rates/status/751583847268179968/photo/1</td>\n",
       "      <td>5</td>\n",
       "      <td>10</td>\n",
       "      <td>NaN</td>\n",
       "      <td>doggoNonepupperNone</td>\n",
       "    </tr>\n",
       "    <tr>\n",
       "      <th>1063</th>\n",
       "      <td>741067306818797568</td>\n",
       "      <td>NaN</td>\n",
       "      <td>NaN</td>\n",
       "      <td>2016-06-10 00:39:48 +0000</td>\n",
       "      <td>&lt;a href=\"http://twitter.com/download/iphone\" rel=\"nofollow\"&gt;Twitter for iPhone&lt;/a&gt;</td>\n",
       "      <td>This is just downright precious af. 12/10 for both pupper and doggo https://t.co/o5J479bZUC</td>\n",
       "      <td>https://twitter.com/dog_rates/status/741067306818797568/photo/1</td>\n",
       "      <td>12</td>\n",
       "      <td>10</td>\n",
       "      <td>NaN</td>\n",
       "      <td>doggoNonepupperNone</td>\n",
       "    </tr>\n",
       "    <tr>\n",
       "      <th>1113</th>\n",
       "      <td>733109485275860992</td>\n",
       "      <td>NaN</td>\n",
       "      <td>NaN</td>\n",
       "      <td>2016-05-19 01:38:16 +0000</td>\n",
       "      <td>&lt;a href=\"http://twitter.com/download/iphone\" rel=\"nofollow\"&gt;Twitter for iPhone&lt;/a&gt;</td>\n",
       "      <td>Like father (doggo), like son (pupper). Both 12/10 https://t.co/pG2inLaOda</td>\n",
       "      <td>https://twitter.com/dog_rates/status/733109485275860992/photo/1</td>\n",
       "      <td>12</td>\n",
       "      <td>10</td>\n",
       "      <td>NaN</td>\n",
       "      <td>doggoNonepupperNone</td>\n",
       "    </tr>\n",
       "  </tbody>\n",
       "</table>\n",
       "</div>"
      ],
      "text/plain": [
       "                tweet_id  in_reply_to_status_id  in_reply_to_user_id  \\\n",
       "460   817777686764523521                    NaN                  NaN   \n",
       "531   808106460588765185                    NaN                  NaN   \n",
       "565   802265048156610565           7.331095e+17         4.196984e+09   \n",
       "575   801115127852503040                    NaN                  NaN   \n",
       "705   785639753186217984                    NaN                  NaN   \n",
       "733   781308096455073793                    NaN                  NaN   \n",
       "889   759793422261743616                    NaN                  NaN   \n",
       "956   751583847268179968                    NaN                  NaN   \n",
       "1063  741067306818797568                    NaN                  NaN   \n",
       "1113  733109485275860992                    NaN                  NaN   \n",
       "\n",
       "                      timestamp  \\\n",
       "460   2017-01-07 16:59:28 +0000   \n",
       "531   2016-12-12 00:29:28 +0000   \n",
       "565   2016-11-25 21:37:47 +0000   \n",
       "575   2016-11-22 17:28:25 +0000   \n",
       "705   2016-10-11 00:34:48 +0000   \n",
       "733   2016-09-29 01:42:20 +0000   \n",
       "889   2016-07-31 16:50:42 +0000   \n",
       "956   2016-07-09 01:08:47 +0000   \n",
       "1063  2016-06-10 00:39:48 +0000   \n",
       "1113  2016-05-19 01:38:16 +0000   \n",
       "\n",
       "                                                                                  source  \\\n",
       "460   <a href=\"http://twitter.com/download/iphone\" rel=\"nofollow\">Twitter for iPhone</a>   \n",
       "531   <a href=\"http://twitter.com/download/iphone\" rel=\"nofollow\">Twitter for iPhone</a>   \n",
       "565   <a href=\"http://twitter.com/download/iphone\" rel=\"nofollow\">Twitter for iPhone</a>   \n",
       "575   <a href=\"http://twitter.com/download/iphone\" rel=\"nofollow\">Twitter for iPhone</a>   \n",
       "705   <a href=\"http://twitter.com/download/iphone\" rel=\"nofollow\">Twitter for iPhone</a>   \n",
       "733                      <a href=\"http://vine.co\" rel=\"nofollow\">Vine - Make a Scene</a>   \n",
       "889   <a href=\"http://twitter.com/download/iphone\" rel=\"nofollow\">Twitter for iPhone</a>   \n",
       "956   <a href=\"http://twitter.com/download/iphone\" rel=\"nofollow\">Twitter for iPhone</a>   \n",
       "1063  <a href=\"http://twitter.com/download/iphone\" rel=\"nofollow\">Twitter for iPhone</a>   \n",
       "1113  <a href=\"http://twitter.com/download/iphone\" rel=\"nofollow\">Twitter for iPhone</a>   \n",
       "\n",
       "                                                                                                                                                                      text  \\\n",
       "460   This is Dido. She's playing the lead role in \"Pupper Stops to Catch Snow Before Resuming Shadow Box with Dried Apple.\" 13/10 (IG: didodoggo) https://t.co/m7isZrOBX7   \n",
       "531                       Here we have Burke (pupper) and Dexter (doggo). Pupper wants to be exactly like doggo. Both 12/10 would pet at same time https://t.co/ANBpEYHaho   \n",
       "565                                                                                                  Like doggo, like pupper version 2. Both 11/10 https://t.co/9IxWAXFqze   \n",
       "575                       This is Bones. He's being haunted by another doggo of roughly the same size. 12/10 deep breaths pupper everything's fine https://t.co/55Dqe0SJNj   \n",
       "705   This is Pinot. He's a sophisticated doggo. You can tell by the hat. Also pointier than your average pupper. Still 10/10 would pet cautiously https://t.co/f2wmLZTPHd   \n",
       "733                                                                                                             Pupper butt 1, Doggo 0. Both 12/10 https://t.co/WQvcPEpH2u   \n",
       "889                       Meet Maggie &amp; Lila. Maggie is the doggo, Lila is the pupper. They are sisters. Both 12/10 would pet at the same time https://t.co/MYwR4DQKll   \n",
       "956                               Please stop sending it pictures that don't even have a doggo or pupper in them. Churlish af. 5/10 neat couch tho https://t.co/u2c9c7qSg8   \n",
       "1063                                                                           This is just downright precious af. 12/10 for both pupper and doggo https://t.co/o5J479bZUC   \n",
       "1113                                                                                            Like father (doggo), like son (pupper). Both 12/10 https://t.co/pG2inLaOda   \n",
       "\n",
       "                                                                                                                        expanded_urls  \\\n",
       "460                                                                   https://twitter.com/dog_rates/status/817777686764523521/video/1   \n",
       "531                                                                   https://twitter.com/dog_rates/status/808106460588765185/photo/1   \n",
       "565                                                                   https://twitter.com/dog_rates/status/802265048156610565/photo/1   \n",
       "575   https://twitter.com/dog_rates/status/801115127852503040/photo/1,https://twitter.com/dog_rates/status/801115127852503040/photo/1   \n",
       "705   https://twitter.com/dog_rates/status/785639753186217984/photo/1,https://twitter.com/dog_rates/status/785639753186217984/photo/1   \n",
       "733                                                                                                     https://vine.co/v/5rgu2Law2ut   \n",
       "889   https://twitter.com/dog_rates/status/759793422261743616/photo/1,https://twitter.com/dog_rates/status/759793422261743616/photo/1   \n",
       "956                                                                   https://twitter.com/dog_rates/status/751583847268179968/photo/1   \n",
       "1063                                                                  https://twitter.com/dog_rates/status/741067306818797568/photo/1   \n",
       "1113                                                                  https://twitter.com/dog_rates/status/733109485275860992/photo/1   \n",
       "\n",
       "      rating_numerator  rating_denominator    name                 type  \n",
       "460                 13                  10    Dido  doggoNonepupperNone  \n",
       "531                 12                  10     NaN  doggoNonepupperNone  \n",
       "565                 11                  10     NaN  doggoNonepupperNone  \n",
       "575                 12                  10   Bones  doggoNonepupperNone  \n",
       "705                 10                  10   Pinot  doggoNonepupperNone  \n",
       "733                 12                  10     NaN  doggoNonepupperNone  \n",
       "889                 12                  10  Maggie  doggoNonepupperNone  \n",
       "956                  5                  10     NaN  doggoNonepupperNone  \n",
       "1063                12                  10     NaN  doggoNonepupperNone  \n",
       "1113                12                  10     NaN  doggoNonepupperNone  "
      ]
     },
     "execution_count": 477,
     "metadata": {},
     "output_type": "execute_result"
    }
   ],
   "source": [
    "archive_clean.query('type == \"doggoNonepupperNone\"')"
   ]
  },
  {
   "cell_type": "markdown",
   "metadata": {},
   "source": [
    "#### Code\n",
    "- We can see that there is an obvious answer in the text column for the tweet_ids \"817777686764523521\", \"801115127852503040\", and \"785639753186217984\" so we will fix them"
   ]
  },
  {
   "cell_type": "code",
   "execution_count": 478,
   "metadata": {},
   "outputs": [],
   "source": [
    "archive_clean.loc[archive_clean['tweet_id'] == 817777686764523521, 'type']  = 'pupper'\n",
    "archive_clean.loc[archive_clean['tweet_id'] == 801115127852503040, 'type'] = 'pupper'\n",
    "archive_clean.loc[archive_clean['tweet_id'] == 785639753186217984, 'type'] = 'doggo'"
   ]
  },
  {
   "cell_type": "markdown",
   "metadata": {},
   "source": [
    "#### Test"
   ]
  },
  {
   "cell_type": "code",
   "execution_count": 479,
   "metadata": {},
   "outputs": [
    {
     "data": {
      "text/html": [
       "<div>\n",
       "<style scoped>\n",
       "    .dataframe tbody tr th:only-of-type {\n",
       "        vertical-align: middle;\n",
       "    }\n",
       "\n",
       "    .dataframe tbody tr th {\n",
       "        vertical-align: top;\n",
       "    }\n",
       "\n",
       "    .dataframe thead th {\n",
       "        text-align: right;\n",
       "    }\n",
       "</style>\n",
       "<table border=\"1\" class=\"dataframe\">\n",
       "  <thead>\n",
       "    <tr style=\"text-align: right;\">\n",
       "      <th></th>\n",
       "      <th>tweet_id</th>\n",
       "      <th>in_reply_to_status_id</th>\n",
       "      <th>in_reply_to_user_id</th>\n",
       "      <th>timestamp</th>\n",
       "      <th>source</th>\n",
       "      <th>text</th>\n",
       "      <th>expanded_urls</th>\n",
       "      <th>rating_numerator</th>\n",
       "      <th>rating_denominator</th>\n",
       "      <th>name</th>\n",
       "      <th>type</th>\n",
       "    </tr>\n",
       "  </thead>\n",
       "  <tbody>\n",
       "    <tr>\n",
       "      <th>460</th>\n",
       "      <td>817777686764523521</td>\n",
       "      <td>NaN</td>\n",
       "      <td>NaN</td>\n",
       "      <td>2017-01-07 16:59:28 +0000</td>\n",
       "      <td>&lt;a href=\"http://twitter.com/download/iphone\" rel=\"nofollow\"&gt;Twitter for iPhone&lt;/a&gt;</td>\n",
       "      <td>This is Dido. She's playing the lead role in \"Pupper Stops to Catch Snow Before Resuming Shadow Box with Dried Apple.\" 13/10 (IG: didodoggo) https://t.co/m7isZrOBX7</td>\n",
       "      <td>https://twitter.com/dog_rates/status/817777686764523521/video/1</td>\n",
       "      <td>13</td>\n",
       "      <td>10</td>\n",
       "      <td>Dido</td>\n",
       "      <td>pupper</td>\n",
       "    </tr>\n",
       "  </tbody>\n",
       "</table>\n",
       "</div>"
      ],
      "text/plain": [
       "               tweet_id  in_reply_to_status_id  in_reply_to_user_id  \\\n",
       "460  817777686764523521                    NaN                  NaN   \n",
       "\n",
       "                     timestamp  \\\n",
       "460  2017-01-07 16:59:28 +0000   \n",
       "\n",
       "                                                                                 source  \\\n",
       "460  <a href=\"http://twitter.com/download/iphone\" rel=\"nofollow\">Twitter for iPhone</a>   \n",
       "\n",
       "                                                                                                                                                                     text  \\\n",
       "460  This is Dido. She's playing the lead role in \"Pupper Stops to Catch Snow Before Resuming Shadow Box with Dried Apple.\" 13/10 (IG: didodoggo) https://t.co/m7isZrOBX7   \n",
       "\n",
       "                                                       expanded_urls  \\\n",
       "460  https://twitter.com/dog_rates/status/817777686764523521/video/1   \n",
       "\n",
       "     rating_numerator  rating_denominator  name    type  \n",
       "460                13                  10  Dido  pupper  "
      ]
     },
     "execution_count": 479,
     "metadata": {},
     "output_type": "execute_result"
    }
   ],
   "source": [
    "archive_clean[archive_clean['tweet_id'] == 817777686764523521]"
   ]
  },
  {
   "cell_type": "code",
   "execution_count": 480,
   "metadata": {},
   "outputs": [
    {
     "data": {
      "text/html": [
       "<div>\n",
       "<style scoped>\n",
       "    .dataframe tbody tr th:only-of-type {\n",
       "        vertical-align: middle;\n",
       "    }\n",
       "\n",
       "    .dataframe tbody tr th {\n",
       "        vertical-align: top;\n",
       "    }\n",
       "\n",
       "    .dataframe thead th {\n",
       "        text-align: right;\n",
       "    }\n",
       "</style>\n",
       "<table border=\"1\" class=\"dataframe\">\n",
       "  <thead>\n",
       "    <tr style=\"text-align: right;\">\n",
       "      <th></th>\n",
       "      <th>tweet_id</th>\n",
       "      <th>in_reply_to_status_id</th>\n",
       "      <th>in_reply_to_user_id</th>\n",
       "      <th>timestamp</th>\n",
       "      <th>source</th>\n",
       "      <th>text</th>\n",
       "      <th>expanded_urls</th>\n",
       "      <th>rating_numerator</th>\n",
       "      <th>rating_denominator</th>\n",
       "      <th>name</th>\n",
       "      <th>type</th>\n",
       "    </tr>\n",
       "  </thead>\n",
       "  <tbody>\n",
       "    <tr>\n",
       "      <th>575</th>\n",
       "      <td>801115127852503040</td>\n",
       "      <td>NaN</td>\n",
       "      <td>NaN</td>\n",
       "      <td>2016-11-22 17:28:25 +0000</td>\n",
       "      <td>&lt;a href=\"http://twitter.com/download/iphone\" rel=\"nofollow\"&gt;Twitter for iPhone&lt;/a&gt;</td>\n",
       "      <td>This is Bones. He's being haunted by another doggo of roughly the same size. 12/10 deep breaths pupper everything's fine https://t.co/55Dqe0SJNj</td>\n",
       "      <td>https://twitter.com/dog_rates/status/801115127852503040/photo/1,https://twitter.com/dog_rates/status/801115127852503040/photo/1</td>\n",
       "      <td>12</td>\n",
       "      <td>10</td>\n",
       "      <td>Bones</td>\n",
       "      <td>pupper</td>\n",
       "    </tr>\n",
       "  </tbody>\n",
       "</table>\n",
       "</div>"
      ],
      "text/plain": [
       "               tweet_id  in_reply_to_status_id  in_reply_to_user_id  \\\n",
       "575  801115127852503040                    NaN                  NaN   \n",
       "\n",
       "                     timestamp  \\\n",
       "575  2016-11-22 17:28:25 +0000   \n",
       "\n",
       "                                                                                 source  \\\n",
       "575  <a href=\"http://twitter.com/download/iphone\" rel=\"nofollow\">Twitter for iPhone</a>   \n",
       "\n",
       "                                                                                                                                                 text  \\\n",
       "575  This is Bones. He's being haunted by another doggo of roughly the same size. 12/10 deep breaths pupper everything's fine https://t.co/55Dqe0SJNj   \n",
       "\n",
       "                                                                                                                       expanded_urls  \\\n",
       "575  https://twitter.com/dog_rates/status/801115127852503040/photo/1,https://twitter.com/dog_rates/status/801115127852503040/photo/1   \n",
       "\n",
       "     rating_numerator  rating_denominator   name    type  \n",
       "575                12                  10  Bones  pupper  "
      ]
     },
     "execution_count": 480,
     "metadata": {},
     "output_type": "execute_result"
    }
   ],
   "source": [
    "archive_clean[archive_clean['tweet_id'] == 801115127852503040]"
   ]
  },
  {
   "cell_type": "code",
   "execution_count": 481,
   "metadata": {},
   "outputs": [
    {
     "data": {
      "text/html": [
       "<div>\n",
       "<style scoped>\n",
       "    .dataframe tbody tr th:only-of-type {\n",
       "        vertical-align: middle;\n",
       "    }\n",
       "\n",
       "    .dataframe tbody tr th {\n",
       "        vertical-align: top;\n",
       "    }\n",
       "\n",
       "    .dataframe thead th {\n",
       "        text-align: right;\n",
       "    }\n",
       "</style>\n",
       "<table border=\"1\" class=\"dataframe\">\n",
       "  <thead>\n",
       "    <tr style=\"text-align: right;\">\n",
       "      <th></th>\n",
       "      <th>tweet_id</th>\n",
       "      <th>in_reply_to_status_id</th>\n",
       "      <th>in_reply_to_user_id</th>\n",
       "      <th>timestamp</th>\n",
       "      <th>source</th>\n",
       "      <th>text</th>\n",
       "      <th>expanded_urls</th>\n",
       "      <th>rating_numerator</th>\n",
       "      <th>rating_denominator</th>\n",
       "      <th>name</th>\n",
       "      <th>type</th>\n",
       "    </tr>\n",
       "  </thead>\n",
       "  <tbody>\n",
       "    <tr>\n",
       "      <th>705</th>\n",
       "      <td>785639753186217984</td>\n",
       "      <td>NaN</td>\n",
       "      <td>NaN</td>\n",
       "      <td>2016-10-11 00:34:48 +0000</td>\n",
       "      <td>&lt;a href=\"http://twitter.com/download/iphone\" rel=\"nofollow\"&gt;Twitter for iPhone&lt;/a&gt;</td>\n",
       "      <td>This is Pinot. He's a sophisticated doggo. You can tell by the hat. Also pointier than your average pupper. Still 10/10 would pet cautiously https://t.co/f2wmLZTPHd</td>\n",
       "      <td>https://twitter.com/dog_rates/status/785639753186217984/photo/1,https://twitter.com/dog_rates/status/785639753186217984/photo/1</td>\n",
       "      <td>10</td>\n",
       "      <td>10</td>\n",
       "      <td>Pinot</td>\n",
       "      <td>doggo</td>\n",
       "    </tr>\n",
       "  </tbody>\n",
       "</table>\n",
       "</div>"
      ],
      "text/plain": [
       "               tweet_id  in_reply_to_status_id  in_reply_to_user_id  \\\n",
       "705  785639753186217984                    NaN                  NaN   \n",
       "\n",
       "                     timestamp  \\\n",
       "705  2016-10-11 00:34:48 +0000   \n",
       "\n",
       "                                                                                 source  \\\n",
       "705  <a href=\"http://twitter.com/download/iphone\" rel=\"nofollow\">Twitter for iPhone</a>   \n",
       "\n",
       "                                                                                                                                                                     text  \\\n",
       "705  This is Pinot. He's a sophisticated doggo. You can tell by the hat. Also pointier than your average pupper. Still 10/10 would pet cautiously https://t.co/f2wmLZTPHd   \n",
       "\n",
       "                                                                                                                       expanded_urls  \\\n",
       "705  https://twitter.com/dog_rates/status/785639753186217984/photo/1,https://twitter.com/dog_rates/status/785639753186217984/photo/1   \n",
       "\n",
       "     rating_numerator  rating_denominator   name   type  \n",
       "705                10                  10  Pinot  doggo  "
      ]
     },
     "execution_count": 481,
     "metadata": {},
     "output_type": "execute_result"
    }
   ],
   "source": [
    "archive_clean[archive_clean['tweet_id'] == 785639753186217984]"
   ]
  },
  {
   "cell_type": "markdown",
   "metadata": {},
   "source": [
    "#### Code\n",
    "- Since the rest of the rows with the type \"doggoNonepupperNone\" aren't easily discernable or seem to contain multiple dogs, we'll set their values to \"none\""
   ]
  },
  {
   "cell_type": "code",
   "execution_count": 482,
   "metadata": {},
   "outputs": [],
   "source": [
    "archive_clean['type'].replace('doggoNonepupperNone', 'none', inplace = True)"
   ]
  },
  {
   "cell_type": "markdown",
   "metadata": {},
   "source": [
    "#### Test"
   ]
  },
  {
   "cell_type": "code",
   "execution_count": 483,
   "metadata": {},
   "outputs": [
    {
     "data": {
      "text/plain": [
       "0"
      ]
     },
     "execution_count": 483,
     "metadata": {},
     "output_type": "execute_result"
    }
   ],
   "source": [
    "# If it worked this code should return 0\n",
    "archive_clean[archive_clean['type'] == 'doggoNonepupperNone']['type'].count()"
   ]
  },
  {
   "cell_type": "markdown",
   "metadata": {},
   "source": [
    "#### Define: Let's do the same with the rest of values in the 'type' column"
   ]
  },
  {
   "cell_type": "markdown",
   "metadata": {},
   "source": [
    "#### Code"
   ]
  },
  {
   "cell_type": "code",
   "execution_count": 484,
   "metadata": {},
   "outputs": [],
   "source": [
    "archive_clean['type'].replace('NoneNoneNoneNone', 'none', inplace = True)\n",
    "archive_clean['type'].replace('NoneNonepupperNone', 'pupper', inplace = True)\n",
    "archive_clean['type'].replace('doggoNoneNoneNone', 'doggo', inplace = True)\n",
    "archive_clean['type'].replace('NoneNoneNonepuppo', 'puppo', inplace = True)\n",
    "archive_clean['type'].replace('NoneflooferNoneNone', 'floofer', inplace = True)"
   ]
  },
  {
   "cell_type": "markdown",
   "metadata": {},
   "source": [
    "#### Test"
   ]
  },
  {
   "cell_type": "code",
   "execution_count": 485,
   "metadata": {},
   "outputs": [
    {
     "data": {
      "text/plain": [
       "type\n",
       "none       1838\n",
       "pupper      226\n",
       "doggo        76\n",
       "puppo        25\n",
       "floofer      10\n",
       "Name: count, dtype: Int64"
      ]
     },
     "execution_count": 485,
     "metadata": {},
     "output_type": "execute_result"
    }
   ],
   "source": [
    "archive_clean['type'].value_counts()"
   ]
  },
  {
   "cell_type": "markdown",
   "metadata": {},
   "source": [
    "### Tidiness Issue #2: Instead of having a \"rating numerator\" and \"rating denominator\" columns it would make more sense to divide the numerator by the denominator and store the value as a float to perform mathematical analyses."
   ]
  },
  {
   "cell_type": "markdown",
   "metadata": {},
   "source": [
    "### Define: Create a new \"rating score\" column that stores the numerator divided by the denominator as a float"
   ]
  },
  {
   "cell_type": "markdown",
   "metadata": {},
   "source": [
    "#### Code"
   ]
  },
  {
   "cell_type": "code",
   "execution_count": 486,
   "metadata": {},
   "outputs": [],
   "source": [
    "archive_clean['rating_score'] = archive_clean['rating_numerator'].astype(float) / archive_clean['rating_denominator'].astype(float)"
   ]
  },
  {
   "cell_type": "markdown",
   "metadata": {},
   "source": [
    "#### Test"
   ]
  },
  {
   "cell_type": "code",
   "execution_count": 487,
   "metadata": {},
   "outputs": [
    {
     "data": {
      "text/html": [
       "<div>\n",
       "<style scoped>\n",
       "    .dataframe tbody tr th:only-of-type {\n",
       "        vertical-align: middle;\n",
       "    }\n",
       "\n",
       "    .dataframe tbody tr th {\n",
       "        vertical-align: top;\n",
       "    }\n",
       "\n",
       "    .dataframe thead th {\n",
       "        text-align: right;\n",
       "    }\n",
       "</style>\n",
       "<table border=\"1\" class=\"dataframe\">\n",
       "  <thead>\n",
       "    <tr style=\"text-align: right;\">\n",
       "      <th></th>\n",
       "      <th>rating_numerator</th>\n",
       "      <th>rating_denominator</th>\n",
       "      <th>rating_score</th>\n",
       "    </tr>\n",
       "  </thead>\n",
       "  <tbody>\n",
       "    <tr>\n",
       "      <th>688</th>\n",
       "      <td>11</td>\n",
       "      <td>10</td>\n",
       "      <td>1.1</td>\n",
       "    </tr>\n",
       "    <tr>\n",
       "      <th>1517</th>\n",
       "      <td>10</td>\n",
       "      <td>10</td>\n",
       "      <td>1.0</td>\n",
       "    </tr>\n",
       "    <tr>\n",
       "      <th>738</th>\n",
       "      <td>11</td>\n",
       "      <td>10</td>\n",
       "      <td>1.1</td>\n",
       "    </tr>\n",
       "    <tr>\n",
       "      <th>2030</th>\n",
       "      <td>13</td>\n",
       "      <td>10</td>\n",
       "      <td>1.3</td>\n",
       "    </tr>\n",
       "    <tr>\n",
       "      <th>1428</th>\n",
       "      <td>11</td>\n",
       "      <td>10</td>\n",
       "      <td>1.1</td>\n",
       "    </tr>\n",
       "    <tr>\n",
       "      <th>708</th>\n",
       "      <td>12</td>\n",
       "      <td>10</td>\n",
       "      <td>1.2</td>\n",
       "    </tr>\n",
       "    <tr>\n",
       "      <th>270</th>\n",
       "      <td>13</td>\n",
       "      <td>10</td>\n",
       "      <td>1.3</td>\n",
       "    </tr>\n",
       "    <tr>\n",
       "      <th>539</th>\n",
       "      <td>13</td>\n",
       "      <td>10</td>\n",
       "      <td>1.3</td>\n",
       "    </tr>\n",
       "    <tr>\n",
       "      <th>394</th>\n",
       "      <td>12</td>\n",
       "      <td>10</td>\n",
       "      <td>1.2</td>\n",
       "    </tr>\n",
       "    <tr>\n",
       "      <th>1464</th>\n",
       "      <td>10</td>\n",
       "      <td>10</td>\n",
       "      <td>1.0</td>\n",
       "    </tr>\n",
       "    <tr>\n",
       "      <th>1630</th>\n",
       "      <td>12</td>\n",
       "      <td>10</td>\n",
       "      <td>1.2</td>\n",
       "    </tr>\n",
       "    <tr>\n",
       "      <th>1901</th>\n",
       "      <td>5</td>\n",
       "      <td>10</td>\n",
       "      <td>0.5</td>\n",
       "    </tr>\n",
       "    <tr>\n",
       "      <th>494</th>\n",
       "      <td>13</td>\n",
       "      <td>10</td>\n",
       "      <td>1.3</td>\n",
       "    </tr>\n",
       "    <tr>\n",
       "      <th>922</th>\n",
       "      <td>10</td>\n",
       "      <td>10</td>\n",
       "      <td>1.0</td>\n",
       "    </tr>\n",
       "    <tr>\n",
       "      <th>2302</th>\n",
       "      <td>9</td>\n",
       "      <td>10</td>\n",
       "      <td>0.9</td>\n",
       "    </tr>\n",
       "  </tbody>\n",
       "</table>\n",
       "</div>"
      ],
      "text/plain": [
       "      rating_numerator  rating_denominator  rating_score\n",
       "688                 11                  10           1.1\n",
       "1517                10                  10           1.0\n",
       "738                 11                  10           1.1\n",
       "2030                13                  10           1.3\n",
       "1428                11                  10           1.1\n",
       "708                 12                  10           1.2\n",
       "270                 13                  10           1.3\n",
       "539                 13                  10           1.3\n",
       "394                 12                  10           1.2\n",
       "1464                10                  10           1.0\n",
       "1630                12                  10           1.2\n",
       "1901                 5                  10           0.5\n",
       "494                 13                  10           1.3\n",
       "922                 10                  10           1.0\n",
       "2302                 9                  10           0.9"
      ]
     },
     "execution_count": 487,
     "metadata": {},
     "output_type": "execute_result"
    }
   ],
   "source": [
    "archive_clean[['rating_numerator', 'rating_denominator', 'rating_score']].sample(15)"
   ]
  },
  {
   "cell_type": "markdown",
   "metadata": {},
   "source": [
    "## Images Dataset"
   ]
  },
  {
   "cell_type": "markdown",
   "metadata": {},
   "source": [
    "#### Issue #5: The values in columns p1, p2, and p3 need to be standardized with all lowercase characters and contain \" \"s instead of \"_\"s"
   ]
  },
  {
   "cell_type": "markdown",
   "metadata": {},
   "source": [
    "#### Define: Set data types of the columns \"p1\", \"p2\", and \"p3\" to strings instead of objects. This will allows us to perform text transformations."
   ]
  },
  {
   "cell_type": "markdown",
   "metadata": {},
   "source": [
    "#### Code"
   ]
  },
  {
   "cell_type": "code",
   "execution_count": 488,
   "metadata": {},
   "outputs": [
    {
     "name": "stdout",
     "output_type": "stream",
     "text": [
      "<class 'pandas.core.frame.DataFrame'>\n",
      "RangeIndex: 2075 entries, 0 to 2074\n",
      "Data columns (total 12 columns):\n",
      " #   Column    Non-Null Count  Dtype  \n",
      "---  ------    --------------  -----  \n",
      " 0   tweet_id  2075 non-null   int64  \n",
      " 1   jpg_url   2075 non-null   object \n",
      " 2   img_num   2075 non-null   int64  \n",
      " 3   p1        2075 non-null   object \n",
      " 4   p1_conf   2075 non-null   float64\n",
      " 5   p1_dog    2075 non-null   bool   \n",
      " 6   p2        2075 non-null   object \n",
      " 7   p2_conf   2075 non-null   float64\n",
      " 8   p2_dog    2075 non-null   bool   \n",
      " 9   p3        2075 non-null   object \n",
      " 10  p3_conf   2075 non-null   float64\n",
      " 11  p3_dog    2075 non-null   bool   \n",
      "dtypes: bool(3), float64(3), int64(2), object(4)\n",
      "memory usage: 152.1+ KB\n"
     ]
    }
   ],
   "source": [
    "images_clean.info()"
   ]
  },
  {
   "cell_type": "code",
   "execution_count": 489,
   "metadata": {},
   "outputs": [
    {
     "name": "stdout",
     "output_type": "stream",
     "text": [
      "<class 'pandas.core.frame.DataFrame'>\n",
      "RangeIndex: 2075 entries, 0 to 2074\n",
      "Data columns (total 12 columns):\n",
      " #   Column    Non-Null Count  Dtype  \n",
      "---  ------    --------------  -----  \n",
      " 0   tweet_id  2075 non-null   int64  \n",
      " 1   jpg_url   2075 non-null   object \n",
      " 2   img_num   2075 non-null   int64  \n",
      " 3   p1        2075 non-null   string \n",
      " 4   p1_conf   2075 non-null   float64\n",
      " 5   p1_dog    2075 non-null   bool   \n",
      " 6   p2        2075 non-null   string \n",
      " 7   p2_conf   2075 non-null   float64\n",
      " 8   p2_dog    2075 non-null   bool   \n",
      " 9   p3        2075 non-null   string \n",
      " 10  p3_conf   2075 non-null   float64\n",
      " 11  p3_dog    2075 non-null   bool   \n",
      "dtypes: bool(3), float64(3), int64(2), object(1), string(3)\n",
      "memory usage: 152.1+ KB\n"
     ]
    }
   ],
   "source": [
    "images_clean['p1'] = images_clean['p1'].astype('string')\n",
    "images_clean['p2'] = images_clean['p2'].astype('string')\n",
    "images_clean['p3'] = images_clean['p3'].astype('string')\n",
    "images_clean.info()"
   ]
  },
  {
   "cell_type": "code",
   "execution_count": 490,
   "metadata": {},
   "outputs": [],
   "source": [
    "images_clean['p1'] = images_clean['p1'].str.replace('_', ' ')\n",
    "images_clean['p1'] = images_clean['p1'].str.lower()\n",
    "images_clean['p2'] = images_clean['p2'].str.replace('_', ' ')\n",
    "images_clean['p2'] = images_clean['p2'].str.lower()\n",
    "images_clean['p3'] = images_clean['p3'].str.replace('_', ' ')\n",
    "images_clean['p3'] = images_clean['p3'].str.lower()"
   ]
  },
  {
   "cell_type": "markdown",
   "metadata": {},
   "source": [
    "#### Test"
   ]
  },
  {
   "cell_type": "code",
   "execution_count": 491,
   "metadata": {},
   "outputs": [
    {
     "data": {
      "text/html": [
       "<div>\n",
       "<style scoped>\n",
       "    .dataframe tbody tr th:only-of-type {\n",
       "        vertical-align: middle;\n",
       "    }\n",
       "\n",
       "    .dataframe tbody tr th {\n",
       "        vertical-align: top;\n",
       "    }\n",
       "\n",
       "    .dataframe thead th {\n",
       "        text-align: right;\n",
       "    }\n",
       "</style>\n",
       "<table border=\"1\" class=\"dataframe\">\n",
       "  <thead>\n",
       "    <tr style=\"text-align: right;\">\n",
       "      <th></th>\n",
       "      <th>p1</th>\n",
       "      <th>p2</th>\n",
       "      <th>p3</th>\n",
       "    </tr>\n",
       "  </thead>\n",
       "  <tbody>\n",
       "    <tr>\n",
       "      <th>1579</th>\n",
       "      <td>golden retriever</td>\n",
       "      <td>labrador retriever</td>\n",
       "      <td>seat belt</td>\n",
       "    </tr>\n",
       "    <tr>\n",
       "      <th>1575</th>\n",
       "      <td>golden retriever</td>\n",
       "      <td>labrador retriever</td>\n",
       "      <td>doormat</td>\n",
       "    </tr>\n",
       "    <tr>\n",
       "      <th>314</th>\n",
       "      <td>kuvasz</td>\n",
       "      <td>samoyed</td>\n",
       "      <td>white wolf</td>\n",
       "    </tr>\n",
       "    <tr>\n",
       "      <th>801</th>\n",
       "      <td>bernese mountain dog</td>\n",
       "      <td>border collie</td>\n",
       "      <td>entlebucher</td>\n",
       "    </tr>\n",
       "    <tr>\n",
       "      <th>706</th>\n",
       "      <td>llama</td>\n",
       "      <td>triceratops</td>\n",
       "      <td>hog</td>\n",
       "    </tr>\n",
       "    <tr>\n",
       "      <th>1429</th>\n",
       "      <td>tabby</td>\n",
       "      <td>norwegian elkhound</td>\n",
       "      <td>wombat</td>\n",
       "    </tr>\n",
       "    <tr>\n",
       "      <th>743</th>\n",
       "      <td>wood rabbit</td>\n",
       "      <td>angora</td>\n",
       "      <td>hare</td>\n",
       "    </tr>\n",
       "    <tr>\n",
       "      <th>1301</th>\n",
       "      <td>german shepherd</td>\n",
       "      <td>eskimo dog</td>\n",
       "      <td>siberian husky</td>\n",
       "    </tr>\n",
       "    <tr>\n",
       "      <th>1006</th>\n",
       "      <td>siberian husky</td>\n",
       "      <td>eskimo dog</td>\n",
       "      <td>labrador retriever</td>\n",
       "    </tr>\n",
       "    <tr>\n",
       "      <th>1010</th>\n",
       "      <td>shetland sheepdog</td>\n",
       "      <td>collie</td>\n",
       "      <td>keeshond</td>\n",
       "    </tr>\n",
       "    <tr>\n",
       "      <th>1719</th>\n",
       "      <td>border terrier</td>\n",
       "      <td>german shepherd</td>\n",
       "      <td>norwegian elkhound</td>\n",
       "    </tr>\n",
       "    <tr>\n",
       "      <th>1663</th>\n",
       "      <td>golden retriever</td>\n",
       "      <td>cocker spaniel</td>\n",
       "      <td>labrador retriever</td>\n",
       "    </tr>\n",
       "    <tr>\n",
       "      <th>30</th>\n",
       "      <td>toy terrier</td>\n",
       "      <td>papillon</td>\n",
       "      <td>chihuahua</td>\n",
       "    </tr>\n",
       "    <tr>\n",
       "      <th>2070</th>\n",
       "      <td>basset</td>\n",
       "      <td>english springer</td>\n",
       "      <td>german short-haired pointer</td>\n",
       "    </tr>\n",
       "    <tr>\n",
       "      <th>1987</th>\n",
       "      <td>cocker spaniel</td>\n",
       "      <td>sussex spaniel</td>\n",
       "      <td>standard poodle</td>\n",
       "    </tr>\n",
       "  </tbody>\n",
       "</table>\n",
       "</div>"
      ],
      "text/plain": [
       "                        p1                  p2                           p3\n",
       "1579      golden retriever  labrador retriever                    seat belt\n",
       "1575      golden retriever  labrador retriever                      doormat\n",
       "314                 kuvasz             samoyed                   white wolf\n",
       "801   bernese mountain dog       border collie                  entlebucher\n",
       "706                  llama         triceratops                          hog\n",
       "1429                 tabby  norwegian elkhound                       wombat\n",
       "743            wood rabbit              angora                         hare\n",
       "1301       german shepherd          eskimo dog               siberian husky\n",
       "1006        siberian husky          eskimo dog           labrador retriever\n",
       "1010     shetland sheepdog              collie                     keeshond\n",
       "1719        border terrier     german shepherd           norwegian elkhound\n",
       "1663      golden retriever      cocker spaniel           labrador retriever\n",
       "30             toy terrier            papillon                    chihuahua\n",
       "2070                basset    english springer  german short-haired pointer\n",
       "1987        cocker spaniel      sussex spaniel              standard poodle"
      ]
     },
     "execution_count": 491,
     "metadata": {},
     "output_type": "execute_result"
    }
   ],
   "source": [
    "images_clean[['p1', 'p2', 'p3']].sample(15)"
   ]
  },
  {
   "cell_type": "markdown",
   "metadata": {},
   "source": [
    "## Tweets Dataset"
   ]
  },
  {
   "cell_type": "markdown",
   "metadata": {},
   "source": [
    "### Issue #6: Duplicates involved with retweets"
   ]
  },
  {
   "cell_type": "markdown",
   "metadata": {},
   "source": [
    "#### Define: Remove all rows with non-NaN retweeted_status column values"
   ]
  },
  {
   "cell_type": "markdown",
   "metadata": {},
   "source": [
    "#### Code"
   ]
  },
  {
   "cell_type": "code",
   "execution_count": 492,
   "metadata": {},
   "outputs": [],
   "source": [
    "tweets_clean = tweets_clean[tweets_clean['retweeted_status'].isna()]"
   ]
  },
  {
   "cell_type": "markdown",
   "metadata": {},
   "source": [
    "#### Test"
   ]
  },
  {
   "cell_type": "code",
   "execution_count": 493,
   "metadata": {},
   "outputs": [
    {
     "name": "stdout",
     "output_type": "stream",
     "text": [
      "<class 'pandas.core.frame.DataFrame'>\n",
      "Index: 2175 entries, 0 to 2353\n",
      "Data columns (total 31 columns):\n",
      " #   Column                         Non-Null Count  Dtype              \n",
      "---  ------                         --------------  -----              \n",
      " 0   created_at                     2175 non-null   datetime64[ns, UTC]\n",
      " 1   id                             2175 non-null   int64              \n",
      " 2   id_str                         2175 non-null   int64              \n",
      " 3   full_text                      2175 non-null   object             \n",
      " 4   truncated                      2175 non-null   bool               \n",
      " 5   display_text_range             2175 non-null   object             \n",
      " 6   entities                       2175 non-null   object             \n",
      " 7   extended_entities              1994 non-null   object             \n",
      " 8   source                         2175 non-null   object             \n",
      " 9   in_reply_to_status_id          78 non-null     float64            \n",
      " 10  in_reply_to_status_id_str      78 non-null     float64            \n",
      " 11  in_reply_to_user_id            78 non-null     float64            \n",
      " 12  in_reply_to_user_id_str        78 non-null     float64            \n",
      " 13  in_reply_to_screen_name        78 non-null     object             \n",
      " 14  user                           2175 non-null   object             \n",
      " 15  geo                            0 non-null      float64            \n",
      " 16  coordinates                    0 non-null      float64            \n",
      " 17  place                          1 non-null      object             \n",
      " 18  contributors                   0 non-null      float64            \n",
      " 19  is_quote_status                2175 non-null   bool               \n",
      " 20  retweet_count                  2175 non-null   int64              \n",
      " 21  favorite_count                 2175 non-null   int64              \n",
      " 22  favorited                      2175 non-null   bool               \n",
      " 23  retweeted                      2175 non-null   bool               \n",
      " 24  possibly_sensitive             2117 non-null   float64            \n",
      " 25  possibly_sensitive_appealable  2117 non-null   float64            \n",
      " 26  lang                           2175 non-null   object             \n",
      " 27  retweeted_status               0 non-null      object             \n",
      " 28  quoted_status_id               28 non-null     float64            \n",
      " 29  quoted_status_id_str           28 non-null     float64            \n",
      " 30  quoted_status                  28 non-null     object             \n",
      "dtypes: bool(4), datetime64[ns, UTC](1), float64(11), int64(4), object(11)\n",
      "memory usage: 484.3+ KB\n"
     ]
    }
   ],
   "source": [
    "tweets_clean.info()"
   ]
  },
  {
   "cell_type": "markdown",
   "metadata": {},
   "source": [
    "### Issue #7: The column name \"id\" does not match the \"tweet_id\" columns in the other two datasets, this should be changed to ensure a join will work"
   ]
  },
  {
   "cell_type": "markdown",
   "metadata": {},
   "source": [
    "#### Define: Rename \"id\" column to \"tweet_id\""
   ]
  },
  {
   "cell_type": "markdown",
   "metadata": {},
   "source": [
    "#### Code"
   ]
  },
  {
   "cell_type": "code",
   "execution_count": 494,
   "metadata": {},
   "outputs": [],
   "source": [
    "tweets_clean = tweets_clean.rename(columns = {'id': 'tweet_id'})"
   ]
  },
  {
   "cell_type": "markdown",
   "metadata": {},
   "source": [
    "#### Test"
   ]
  },
  {
   "cell_type": "code",
   "execution_count": 495,
   "metadata": {},
   "outputs": [
    {
     "name": "stdout",
     "output_type": "stream",
     "text": [
      "<class 'pandas.core.frame.DataFrame'>\n",
      "Index: 2175 entries, 0 to 2353\n",
      "Data columns (total 31 columns):\n",
      " #   Column                         Non-Null Count  Dtype              \n",
      "---  ------                         --------------  -----              \n",
      " 0   created_at                     2175 non-null   datetime64[ns, UTC]\n",
      " 1   tweet_id                       2175 non-null   int64              \n",
      " 2   id_str                         2175 non-null   int64              \n",
      " 3   full_text                      2175 non-null   object             \n",
      " 4   truncated                      2175 non-null   bool               \n",
      " 5   display_text_range             2175 non-null   object             \n",
      " 6   entities                       2175 non-null   object             \n",
      " 7   extended_entities              1994 non-null   object             \n",
      " 8   source                         2175 non-null   object             \n",
      " 9   in_reply_to_status_id          78 non-null     float64            \n",
      " 10  in_reply_to_status_id_str      78 non-null     float64            \n",
      " 11  in_reply_to_user_id            78 non-null     float64            \n",
      " 12  in_reply_to_user_id_str        78 non-null     float64            \n",
      " 13  in_reply_to_screen_name        78 non-null     object             \n",
      " 14  user                           2175 non-null   object             \n",
      " 15  geo                            0 non-null      float64            \n",
      " 16  coordinates                    0 non-null      float64            \n",
      " 17  place                          1 non-null      object             \n",
      " 18  contributors                   0 non-null      float64            \n",
      " 19  is_quote_status                2175 non-null   bool               \n",
      " 20  retweet_count                  2175 non-null   int64              \n",
      " 21  favorite_count                 2175 non-null   int64              \n",
      " 22  favorited                      2175 non-null   bool               \n",
      " 23  retweeted                      2175 non-null   bool               \n",
      " 24  possibly_sensitive             2117 non-null   float64            \n",
      " 25  possibly_sensitive_appealable  2117 non-null   float64            \n",
      " 26  lang                           2175 non-null   object             \n",
      " 27  retweeted_status               0 non-null      object             \n",
      " 28  quoted_status_id               28 non-null     float64            \n",
      " 29  quoted_status_id_str           28 non-null     float64            \n",
      " 30  quoted_status                  28 non-null     object             \n",
      "dtypes: bool(4), datetime64[ns, UTC](1), float64(11), int64(4), object(11)\n",
      "memory usage: 484.3+ KB\n"
     ]
    }
   ],
   "source": [
    "tweets_clean.info()"
   ]
  },
  {
   "cell_type": "markdown",
   "metadata": {},
   "source": [
    "### Issue #8: Remove all unecessary columns from each dataset"
   ]
  },
  {
   "cell_type": "markdown",
   "metadata": {},
   "source": [
    "#### Define: Let's first fix the \"tweet_id\" column datatype by setting it to string in each of the data sets\n",
    "#### Code"
   ]
  },
  {
   "cell_type": "code",
   "execution_count": 496,
   "metadata": {},
   "outputs": [],
   "source": [
    "archive_clean['tweet_id'] = archive_clean['tweet_id'].astype('string')\n",
    "images_clean['tweet_id'] = images_clean['tweet_id'].astype('string')\n",
    "tweets_clean['tweet_id'] = tweets_clean['tweet_id'].astype('string')"
   ]
  },
  {
   "cell_type": "markdown",
   "metadata": {},
   "source": [
    "#### Test"
   ]
  },
  {
   "cell_type": "code",
   "execution_count": 497,
   "metadata": {},
   "outputs": [
    {
     "data": {
      "text/plain": [
       "tweet_id                 string[python]\n",
       "in_reply_to_status_id           float64\n",
       "in_reply_to_user_id             float64\n",
       "timestamp                        object\n",
       "source                           object\n",
       "text                             object\n",
       "expanded_urls                    object\n",
       "rating_numerator                  int64\n",
       "rating_denominator                int64\n",
       "name                             object\n",
       "type                     string[python]\n",
       "rating_score                    float64\n",
       "dtype: object"
      ]
     },
     "execution_count": 497,
     "metadata": {},
     "output_type": "execute_result"
    }
   ],
   "source": [
    "archive_clean.dtypes"
   ]
  },
  {
   "cell_type": "code",
   "execution_count": 498,
   "metadata": {},
   "outputs": [
    {
     "data": {
      "text/plain": [
       "tweet_id    string[python]\n",
       "jpg_url             object\n",
       "img_num              int64\n",
       "p1          string[python]\n",
       "p1_conf            float64\n",
       "p1_dog                bool\n",
       "p2          string[python]\n",
       "p2_conf            float64\n",
       "p2_dog                bool\n",
       "p3          string[python]\n",
       "p3_conf            float64\n",
       "p3_dog                bool\n",
       "dtype: object"
      ]
     },
     "execution_count": 498,
     "metadata": {},
     "output_type": "execute_result"
    }
   ],
   "source": [
    "images_clean.dtypes"
   ]
  },
  {
   "cell_type": "code",
   "execution_count": 499,
   "metadata": {},
   "outputs": [
    {
     "data": {
      "text/plain": [
       "created_at                       datetime64[ns, UTC]\n",
       "tweet_id                              string[python]\n",
       "id_str                                         int64\n",
       "full_text                                     object\n",
       "truncated                                       bool\n",
       "display_text_range                            object\n",
       "entities                                      object\n",
       "extended_entities                             object\n",
       "source                                        object\n",
       "in_reply_to_status_id                        float64\n",
       "in_reply_to_status_id_str                    float64\n",
       "in_reply_to_user_id                          float64\n",
       "in_reply_to_user_id_str                      float64\n",
       "in_reply_to_screen_name                       object\n",
       "user                                          object\n",
       "geo                                          float64\n",
       "coordinates                                  float64\n",
       "place                                         object\n",
       "contributors                                 float64\n",
       "is_quote_status                                 bool\n",
       "retweet_count                                  int64\n",
       "favorite_count                                 int64\n",
       "favorited                                       bool\n",
       "retweeted                                       bool\n",
       "possibly_sensitive                           float64\n",
       "possibly_sensitive_appealable                float64\n",
       "lang                                          object\n",
       "retweeted_status                              object\n",
       "quoted_status_id                             float64\n",
       "quoted_status_id_str                         float64\n",
       "quoted_status                                 object\n",
       "dtype: object"
      ]
     },
     "execution_count": 499,
     "metadata": {},
     "output_type": "execute_result"
    }
   ],
   "source": [
    "tweets_clean.dtypes"
   ]
  },
  {
   "cell_type": "markdown",
   "metadata": {},
   "source": [
    "#### Define: Let's drop unwanted columns from the archive dataset\n",
    "#### Code"
   ]
  },
  {
   "cell_type": "code",
   "execution_count": 500,
   "metadata": {},
   "outputs": [],
   "source": [
    "archive_clean.drop(['in_reply_to_status_id', 'in_reply_to_user_id', 'timestamp', 'source', 'text', 'expanded_urls', 'rating_numerator', 'rating_denominator'], axis = 1, inplace = True)"
   ]
  },
  {
   "cell_type": "code",
   "execution_count": 501,
   "metadata": {},
   "outputs": [
    {
     "name": "stdout",
     "output_type": "stream",
     "text": [
      "<class 'pandas.core.frame.DataFrame'>\n",
      "Index: 2175 entries, 0 to 2355\n",
      "Data columns (total 4 columns):\n",
      " #   Column        Non-Null Count  Dtype  \n",
      "---  ------        --------------  -----  \n",
      " 0   tweet_id      2175 non-null   string \n",
      " 1   name          1495 non-null   object \n",
      " 2   type          2175 non-null   string \n",
      " 3   rating_score  2175 non-null   float64\n",
      "dtypes: float64(1), object(1), string(2)\n",
      "memory usage: 85.0+ KB\n"
     ]
    }
   ],
   "source": [
    "archive_clean.info()"
   ]
  },
  {
   "cell_type": "markdown",
   "metadata": {},
   "source": [
    "#### Define: Drop the \"img_num\" column from the images dataset\n",
    "#### Code"
   ]
  },
  {
   "cell_type": "code",
   "execution_count": 502,
   "metadata": {},
   "outputs": [],
   "source": [
    "images_clean.drop(['img_num'], axis = 1, inplace = True)"
   ]
  },
  {
   "cell_type": "markdown",
   "metadata": {},
   "source": [
    "#### Test"
   ]
  },
  {
   "cell_type": "code",
   "execution_count": 503,
   "metadata": {},
   "outputs": [
    {
     "name": "stdout",
     "output_type": "stream",
     "text": [
      "<class 'pandas.core.frame.DataFrame'>\n",
      "RangeIndex: 2075 entries, 0 to 2074\n",
      "Data columns (total 11 columns):\n",
      " #   Column    Non-Null Count  Dtype  \n",
      "---  ------    --------------  -----  \n",
      " 0   tweet_id  2075 non-null   string \n",
      " 1   jpg_url   2075 non-null   object \n",
      " 2   p1        2075 non-null   string \n",
      " 3   p1_conf   2075 non-null   float64\n",
      " 4   p1_dog    2075 non-null   bool   \n",
      " 5   p2        2075 non-null   string \n",
      " 6   p2_conf   2075 non-null   float64\n",
      " 7   p2_dog    2075 non-null   bool   \n",
      " 8   p3        2075 non-null   string \n",
      " 9   p3_conf   2075 non-null   float64\n",
      " 10  p3_dog    2075 non-null   bool   \n",
      "dtypes: bool(3), float64(3), object(1), string(4)\n",
      "memory usage: 135.9+ KB\n"
     ]
    }
   ],
   "source": [
    "images_clean.info()"
   ]
  },
  {
   "cell_type": "markdown",
   "metadata": {},
   "source": [
    "#### Define: The Tweets dataset has a lot of data we don't need. Let's keep only the \"tweet_id\", \"favorite_count\", and \"retweet_count\" columns\n",
    "#### Code"
   ]
  },
  {
   "cell_type": "code",
   "execution_count": 504,
   "metadata": {},
   "outputs": [],
   "source": [
    "tweets_clean = tweets_clean[['tweet_id', 'favorite_count', 'retweet_count']]"
   ]
  },
  {
   "cell_type": "markdown",
   "metadata": {},
   "source": [
    "#### Test"
   ]
  },
  {
   "cell_type": "code",
   "execution_count": 505,
   "metadata": {},
   "outputs": [
    {
     "name": "stdout",
     "output_type": "stream",
     "text": [
      "<class 'pandas.core.frame.DataFrame'>\n",
      "Index: 2175 entries, 0 to 2353\n",
      "Data columns (total 3 columns):\n",
      " #   Column          Non-Null Count  Dtype \n",
      "---  ------          --------------  ----- \n",
      " 0   tweet_id        2175 non-null   string\n",
      " 1   favorite_count  2175 non-null   int64 \n",
      " 2   retweet_count   2175 non-null   int64 \n",
      "dtypes: int64(2), string(1)\n",
      "memory usage: 68.0 KB\n"
     ]
    }
   ],
   "source": [
    "tweets_clean.info()"
   ]
  },
  {
   "cell_type": "markdown",
   "metadata": {},
   "source": [
    "#### Define: Merging all datasets into one master data set\n",
    "#### Code"
   ]
  },
  {
   "cell_type": "code",
   "execution_count": 506,
   "metadata": {},
   "outputs": [],
   "source": [
    "master = pd.merge(archive_clean, tweets_clean, on = 'tweet_id', how = 'inner')\n",
    "master = pd.merge(master, images_clean, on = 'tweet_id', how = 'inner')"
   ]
  },
  {
   "cell_type": "markdown",
   "metadata": {},
   "source": [
    "#### Test"
   ]
  },
  {
   "cell_type": "code",
   "execution_count": 507,
   "metadata": {},
   "outputs": [
    {
     "name": "stdout",
     "output_type": "stream",
     "text": [
      "<class 'pandas.core.frame.DataFrame'>\n",
      "RangeIndex: 1994 entries, 0 to 1993\n",
      "Data columns (total 16 columns):\n",
      " #   Column          Non-Null Count  Dtype  \n",
      "---  ------          --------------  -----  \n",
      " 0   tweet_id        1994 non-null   string \n",
      " 1   name            1448 non-null   object \n",
      " 2   type            1994 non-null   string \n",
      " 3   rating_score    1994 non-null   float64\n",
      " 4   favorite_count  1994 non-null   int64  \n",
      " 5   retweet_count   1994 non-null   int64  \n",
      " 6   jpg_url         1994 non-null   object \n",
      " 7   p1              1994 non-null   string \n",
      " 8   p1_conf         1994 non-null   float64\n",
      " 9   p1_dog          1994 non-null   bool   \n",
      " 10  p2              1994 non-null   string \n",
      " 11  p2_conf         1994 non-null   float64\n",
      " 12  p2_dog          1994 non-null   bool   \n",
      " 13  p3              1994 non-null   string \n",
      " 14  p3_conf         1994 non-null   float64\n",
      " 15  p3_dog          1994 non-null   bool   \n",
      "dtypes: bool(3), float64(4), int64(2), object(2), string(5)\n",
      "memory usage: 208.5+ KB\n"
     ]
    }
   ],
   "source": [
    "master.info()"
   ]
  },
  {
   "cell_type": "code",
   "execution_count": 508,
   "metadata": {},
   "outputs": [
    {
     "data": {
      "text/html": [
       "<div>\n",
       "<style scoped>\n",
       "    .dataframe tbody tr th:only-of-type {\n",
       "        vertical-align: middle;\n",
       "    }\n",
       "\n",
       "    .dataframe tbody tr th {\n",
       "        vertical-align: top;\n",
       "    }\n",
       "\n",
       "    .dataframe thead th {\n",
       "        text-align: right;\n",
       "    }\n",
       "</style>\n",
       "<table border=\"1\" class=\"dataframe\">\n",
       "  <thead>\n",
       "    <tr style=\"text-align: right;\">\n",
       "      <th></th>\n",
       "      <th>tweet_id</th>\n",
       "      <th>name</th>\n",
       "      <th>type</th>\n",
       "      <th>rating_score</th>\n",
       "      <th>favorite_count</th>\n",
       "      <th>retweet_count</th>\n",
       "      <th>jpg_url</th>\n",
       "      <th>p1</th>\n",
       "      <th>p1_conf</th>\n",
       "      <th>p1_dog</th>\n",
       "      <th>p2</th>\n",
       "      <th>p2_conf</th>\n",
       "      <th>p2_dog</th>\n",
       "      <th>p3</th>\n",
       "      <th>p3_conf</th>\n",
       "      <th>p3_dog</th>\n",
       "    </tr>\n",
       "  </thead>\n",
       "  <tbody>\n",
       "    <tr>\n",
       "      <th>0</th>\n",
       "      <td>892420643555336193</td>\n",
       "      <td>Phineas</td>\n",
       "      <td>none</td>\n",
       "      <td>1.3</td>\n",
       "      <td>39467</td>\n",
       "      <td>8853</td>\n",
       "      <td>https://pbs.twimg.com/media/DGKD1-bXoAAIAUK.jpg</td>\n",
       "      <td>orange</td>\n",
       "      <td>0.097049</td>\n",
       "      <td>False</td>\n",
       "      <td>bagel</td>\n",
       "      <td>0.085851</td>\n",
       "      <td>False</td>\n",
       "      <td>banana</td>\n",
       "      <td>0.076110</td>\n",
       "      <td>False</td>\n",
       "    </tr>\n",
       "    <tr>\n",
       "      <th>1</th>\n",
       "      <td>892177421306343426</td>\n",
       "      <td>Tilly</td>\n",
       "      <td>none</td>\n",
       "      <td>1.3</td>\n",
       "      <td>33819</td>\n",
       "      <td>6514</td>\n",
       "      <td>https://pbs.twimg.com/media/DGGmoV4XsAAUL6n.jpg</td>\n",
       "      <td>chihuahua</td>\n",
       "      <td>0.323581</td>\n",
       "      <td>True</td>\n",
       "      <td>pekinese</td>\n",
       "      <td>0.090647</td>\n",
       "      <td>True</td>\n",
       "      <td>papillon</td>\n",
       "      <td>0.068957</td>\n",
       "      <td>True</td>\n",
       "    </tr>\n",
       "    <tr>\n",
       "      <th>2</th>\n",
       "      <td>891815181378084864</td>\n",
       "      <td>Archie</td>\n",
       "      <td>none</td>\n",
       "      <td>1.2</td>\n",
       "      <td>25461</td>\n",
       "      <td>4328</td>\n",
       "      <td>https://pbs.twimg.com/media/DGBdLU1WsAANxJ9.jpg</td>\n",
       "      <td>chihuahua</td>\n",
       "      <td>0.716012</td>\n",
       "      <td>True</td>\n",
       "      <td>malamute</td>\n",
       "      <td>0.078253</td>\n",
       "      <td>True</td>\n",
       "      <td>kelpie</td>\n",
       "      <td>0.031379</td>\n",
       "      <td>True</td>\n",
       "    </tr>\n",
       "    <tr>\n",
       "      <th>3</th>\n",
       "      <td>891689557279858688</td>\n",
       "      <td>Darla</td>\n",
       "      <td>none</td>\n",
       "      <td>1.3</td>\n",
       "      <td>42908</td>\n",
       "      <td>8964</td>\n",
       "      <td>https://pbs.twimg.com/media/DF_q7IAWsAEuuN8.jpg</td>\n",
       "      <td>paper towel</td>\n",
       "      <td>0.170278</td>\n",
       "      <td>False</td>\n",
       "      <td>labrador retriever</td>\n",
       "      <td>0.168086</td>\n",
       "      <td>True</td>\n",
       "      <td>spatula</td>\n",
       "      <td>0.040836</td>\n",
       "      <td>False</td>\n",
       "    </tr>\n",
       "    <tr>\n",
       "      <th>4</th>\n",
       "      <td>891327558926688256</td>\n",
       "      <td>Franklin</td>\n",
       "      <td>none</td>\n",
       "      <td>1.2</td>\n",
       "      <td>41048</td>\n",
       "      <td>9774</td>\n",
       "      <td>https://pbs.twimg.com/media/DF6hr6BUMAAzZgT.jpg</td>\n",
       "      <td>basset</td>\n",
       "      <td>0.555712</td>\n",
       "      <td>True</td>\n",
       "      <td>english springer</td>\n",
       "      <td>0.225770</td>\n",
       "      <td>True</td>\n",
       "      <td>german short-haired pointer</td>\n",
       "      <td>0.175219</td>\n",
       "      <td>True</td>\n",
       "    </tr>\n",
       "  </tbody>\n",
       "</table>\n",
       "</div>"
      ],
      "text/plain": [
       "             tweet_id      name  type  rating_score  favorite_count  \\\n",
       "0  892420643555336193   Phineas  none           1.3           39467   \n",
       "1  892177421306343426     Tilly  none           1.3           33819   \n",
       "2  891815181378084864    Archie  none           1.2           25461   \n",
       "3  891689557279858688     Darla  none           1.3           42908   \n",
       "4  891327558926688256  Franklin  none           1.2           41048   \n",
       "\n",
       "   retweet_count                                          jpg_url  \\\n",
       "0           8853  https://pbs.twimg.com/media/DGKD1-bXoAAIAUK.jpg   \n",
       "1           6514  https://pbs.twimg.com/media/DGGmoV4XsAAUL6n.jpg   \n",
       "2           4328  https://pbs.twimg.com/media/DGBdLU1WsAANxJ9.jpg   \n",
       "3           8964  https://pbs.twimg.com/media/DF_q7IAWsAEuuN8.jpg   \n",
       "4           9774  https://pbs.twimg.com/media/DF6hr6BUMAAzZgT.jpg   \n",
       "\n",
       "            p1   p1_conf  p1_dog                  p2   p2_conf  p2_dog  \\\n",
       "0       orange  0.097049   False               bagel  0.085851   False   \n",
       "1    chihuahua  0.323581    True            pekinese  0.090647    True   \n",
       "2    chihuahua  0.716012    True            malamute  0.078253    True   \n",
       "3  paper towel  0.170278   False  labrador retriever  0.168086    True   \n",
       "4       basset  0.555712    True    english springer  0.225770    True   \n",
       "\n",
       "                            p3   p3_conf  p3_dog  \n",
       "0                       banana  0.076110   False  \n",
       "1                     papillon  0.068957    True  \n",
       "2                       kelpie  0.031379    True  \n",
       "3                      spatula  0.040836   False  \n",
       "4  german short-haired pointer  0.175219    True  "
      ]
     },
     "execution_count": 508,
     "metadata": {},
     "output_type": "execute_result"
    }
   ],
   "source": [
    "master.head()"
   ]
  },
  {
   "cell_type": "markdown",
   "metadata": {},
   "source": [
    "## Storing Data\n",
    "Save gathered, assessed, and cleaned master dataset to a CSV file named \"twitter_archive_master.csv\"."
   ]
  },
  {
   "cell_type": "code",
   "execution_count": 509,
   "metadata": {},
   "outputs": [],
   "source": [
    "master.to_csv('twitter_archive_master.csv', index = False)"
   ]
  },
  {
   "cell_type": "markdown",
   "metadata": {},
   "source": [
    "## Analyzing and Visualizing Data\n",
    "In this section, analyze and visualize your wrangled data. You must produce at least **three (3) insights and one (1) visualization.**"
   ]
  },
  {
   "cell_type": "markdown",
   "metadata": {},
   "source": [
    "#### Let's observe the accuracy of the image prediction algorith by combining all of the \"p1\", \"p2\", and \"p3\" columns with their related columns \"p_conf\" and \"p_dog\""
   ]
  },
  {
   "cell_type": "code",
   "execution_count": 510,
   "metadata": {},
   "outputs": [
    {
     "name": "stderr",
     "output_type": "stream",
     "text": [
      "C:\\Users\\sirco\\AppData\\Local\\Temp\\ipykernel_18816\\1702990996.py:2: SettingWithCopyWarning: \n",
      "A value is trying to be set on a copy of a slice from a DataFrame\n",
      "\n",
      "See the caveats in the documentation: https://pandas.pydata.org/pandas-docs/stable/user_guide/indexing.html#returning-a-view-versus-a-copy\n",
      "  p1_df.rename(columns = {'p1': 'p', 'p1_conf': 'p_conf', 'p1_dog': 'p_dog'}, inplace = True)\n",
      "C:\\Users\\sirco\\AppData\\Local\\Temp\\ipykernel_18816\\1702990996.py:5: SettingWithCopyWarning: \n",
      "A value is trying to be set on a copy of a slice from a DataFrame\n",
      "\n",
      "See the caveats in the documentation: https://pandas.pydata.org/pandas-docs/stable/user_guide/indexing.html#returning-a-view-versus-a-copy\n",
      "  p2_df.rename(columns = {'p2': 'p', 'p2_conf': 'p_conf', 'p2_dog': 'p_dog'}, inplace = True)\n",
      "C:\\Users\\sirco\\AppData\\Local\\Temp\\ipykernel_18816\\1702990996.py:8: SettingWithCopyWarning: \n",
      "A value is trying to be set on a copy of a slice from a DataFrame\n",
      "\n",
      "See the caveats in the documentation: https://pandas.pydata.org/pandas-docs/stable/user_guide/indexing.html#returning-a-view-versus-a-copy\n",
      "  p3_df.rename(columns = {'p3': 'p', 'p3_conf': 'p_conf', 'p3_dog': 'p_dog'}, inplace = True)\n",
      "C:\\Users\\sirco\\AppData\\Local\\Temp\\ipykernel_18816\\1702990996.py:11: SettingWithCopyWarning: \n",
      "A value is trying to be set on a copy of a slice from a DataFrame.\n",
      "Try using .loc[row_indexer,col_indexer] = value instead\n",
      "\n",
      "See the caveats in the documentation: https://pandas.pydata.org/pandas-docs/stable/user_guide/indexing.html#returning-a-view-versus-a-copy\n",
      "  p1_df['p_num'] = 1\n",
      "C:\\Users\\sirco\\AppData\\Local\\Temp\\ipykernel_18816\\1702990996.py:12: SettingWithCopyWarning: \n",
      "A value is trying to be set on a copy of a slice from a DataFrame.\n",
      "Try using .loc[row_indexer,col_indexer] = value instead\n",
      "\n",
      "See the caveats in the documentation: https://pandas.pydata.org/pandas-docs/stable/user_guide/indexing.html#returning-a-view-versus-a-copy\n",
      "  p2_df['p_num'] = 2\n",
      "C:\\Users\\sirco\\AppData\\Local\\Temp\\ipykernel_18816\\1702990996.py:13: SettingWithCopyWarning: \n",
      "A value is trying to be set on a copy of a slice from a DataFrame.\n",
      "Try using .loc[row_indexer,col_indexer] = value instead\n",
      "\n",
      "See the caveats in the documentation: https://pandas.pydata.org/pandas-docs/stable/user_guide/indexing.html#returning-a-view-versus-a-copy\n",
      "  p3_df['p_num'] = 3\n"
     ]
    }
   ],
   "source": [
    "p1_df = master[['p1', 'p1_conf', 'p1_dog']]\n",
    "p1_df.rename(columns = {'p1': 'p', 'p1_conf': 'p_conf', 'p1_dog': 'p_dog'}, inplace = True)\n",
    "\n",
    "p2_df = master[['p2', 'p2_conf', 'p2_dog']]\n",
    "p2_df.rename(columns = {'p2': 'p', 'p2_conf': 'p_conf', 'p2_dog': 'p_dog'}, inplace = True)\n",
    "\n",
    "p3_df = master[['p3', 'p3_conf', 'p3_dog']]\n",
    "p3_df.rename(columns = {'p3': 'p', 'p3_conf': 'p_conf', 'p3_dog': 'p_dog'}, inplace = True)\n",
    "\n",
    "# Adding a 'p_num' column to the datasets to ensure that they combine\n",
    "p1_df['p_num'] = 1\n",
    "p2_df['p_num'] = 2\n",
    "p3_df['p_num'] = 3\n",
    "\n",
    "datasets = [p1_df, p2_df, p3_df]\n",
    "p_df = pd.concat(datasets)"
   ]
  },
  {
   "cell_type": "markdown",
   "metadata": {},
   "source": [
    "#### Test"
   ]
  },
  {
   "cell_type": "code",
   "execution_count": 511,
   "metadata": {},
   "outputs": [
    {
     "data": {
      "text/html": [
       "<div>\n",
       "<style scoped>\n",
       "    .dataframe tbody tr th:only-of-type {\n",
       "        vertical-align: middle;\n",
       "    }\n",
       "\n",
       "    .dataframe tbody tr th {\n",
       "        vertical-align: top;\n",
       "    }\n",
       "\n",
       "    .dataframe thead th {\n",
       "        text-align: right;\n",
       "    }\n",
       "</style>\n",
       "<table border=\"1\" class=\"dataframe\">\n",
       "  <thead>\n",
       "    <tr style=\"text-align: right;\">\n",
       "      <th></th>\n",
       "      <th>p</th>\n",
       "      <th>p_conf</th>\n",
       "      <th>p_dog</th>\n",
       "      <th>p_num</th>\n",
       "    </tr>\n",
       "  </thead>\n",
       "  <tbody>\n",
       "    <tr>\n",
       "      <th>1495</th>\n",
       "      <td>french bulldog</td>\n",
       "      <td>0.009840</td>\n",
       "      <td>True</td>\n",
       "      <td>3</td>\n",
       "    </tr>\n",
       "    <tr>\n",
       "      <th>1740</th>\n",
       "      <td>keeshond</td>\n",
       "      <td>0.994065</td>\n",
       "      <td>True</td>\n",
       "      <td>1</td>\n",
       "    </tr>\n",
       "    <tr>\n",
       "      <th>1793</th>\n",
       "      <td>pekinese</td>\n",
       "      <td>0.000516</td>\n",
       "      <td>True</td>\n",
       "      <td>3</td>\n",
       "    </tr>\n",
       "    <tr>\n",
       "      <th>1446</th>\n",
       "      <td>staffordshire bullterrier</td>\n",
       "      <td>0.689259</td>\n",
       "      <td>True</td>\n",
       "      <td>1</td>\n",
       "    </tr>\n",
       "    <tr>\n",
       "      <th>1176</th>\n",
       "      <td>mexican hairless</td>\n",
       "      <td>0.162638</td>\n",
       "      <td>True</td>\n",
       "      <td>1</td>\n",
       "    </tr>\n",
       "    <tr>\n",
       "      <th>1445</th>\n",
       "      <td>boxer</td>\n",
       "      <td>0.000462</td>\n",
       "      <td>True</td>\n",
       "      <td>3</td>\n",
       "    </tr>\n",
       "    <tr>\n",
       "      <th>504</th>\n",
       "      <td>leonberg</td>\n",
       "      <td>0.512034</td>\n",
       "      <td>True</td>\n",
       "      <td>1</td>\n",
       "    </tr>\n",
       "    <tr>\n",
       "      <th>35</th>\n",
       "      <td>brabancon griffon</td>\n",
       "      <td>0.044002</td>\n",
       "      <td>True</td>\n",
       "      <td>3</td>\n",
       "    </tr>\n",
       "    <tr>\n",
       "      <th>815</th>\n",
       "      <td>great pyrenees</td>\n",
       "      <td>0.157081</td>\n",
       "      <td>True</td>\n",
       "      <td>3</td>\n",
       "    </tr>\n",
       "    <tr>\n",
       "      <th>832</th>\n",
       "      <td>doormat</td>\n",
       "      <td>0.028075</td>\n",
       "      <td>False</td>\n",
       "      <td>3</td>\n",
       "    </tr>\n",
       "    <tr>\n",
       "      <th>1727</th>\n",
       "      <td>beagle</td>\n",
       "      <td>0.001406</td>\n",
       "      <td>True</td>\n",
       "      <td>3</td>\n",
       "    </tr>\n",
       "    <tr>\n",
       "      <th>1121</th>\n",
       "      <td>malinois</td>\n",
       "      <td>0.207753</td>\n",
       "      <td>True</td>\n",
       "      <td>2</td>\n",
       "    </tr>\n",
       "    <tr>\n",
       "      <th>210</th>\n",
       "      <td>golden retriever</td>\n",
       "      <td>0.711148</td>\n",
       "      <td>True</td>\n",
       "      <td>1</td>\n",
       "    </tr>\n",
       "    <tr>\n",
       "      <th>1535</th>\n",
       "      <td>giant schnauzer</td>\n",
       "      <td>0.119693</td>\n",
       "      <td>True</td>\n",
       "      <td>1</td>\n",
       "    </tr>\n",
       "    <tr>\n",
       "      <th>121</th>\n",
       "      <td>australian terrier</td>\n",
       "      <td>0.207281</td>\n",
       "      <td>True</td>\n",
       "      <td>1</td>\n",
       "    </tr>\n",
       "  </tbody>\n",
       "</table>\n",
       "</div>"
      ],
      "text/plain": [
       "                              p    p_conf  p_dog  p_num\n",
       "1495             french bulldog  0.009840   True      3\n",
       "1740                   keeshond  0.994065   True      1\n",
       "1793                   pekinese  0.000516   True      3\n",
       "1446  staffordshire bullterrier  0.689259   True      1\n",
       "1176           mexican hairless  0.162638   True      1\n",
       "1445                      boxer  0.000462   True      3\n",
       "504                    leonberg  0.512034   True      1\n",
       "35            brabancon griffon  0.044002   True      3\n",
       "815              great pyrenees  0.157081   True      3\n",
       "832                     doormat  0.028075  False      3\n",
       "1727                     beagle  0.001406   True      3\n",
       "1121                   malinois  0.207753   True      2\n",
       "210            golden retriever  0.711148   True      1\n",
       "1535            giant schnauzer  0.119693   True      1\n",
       "121          australian terrier  0.207281   True      1"
      ]
     },
     "execution_count": 511,
     "metadata": {},
     "output_type": "execute_result"
    }
   ],
   "source": [
    "p_df.sample(15)"
   ]
  },
  {
   "cell_type": "markdown",
   "metadata": {},
   "source": [
    "#### Let's get rid of all values that failed to return a dog and drop the \"p_dog\" and \"p_num\" columns as we no longer need them"
   ]
  },
  {
   "cell_type": "code",
   "execution_count": 512,
   "metadata": {},
   "outputs": [
    {
     "name": "stdout",
     "output_type": "stream",
     "text": [
      "<class 'pandas.core.frame.DataFrame'>\n",
      "Index: 4418 entries, 1 to 1993\n",
      "Data columns (total 2 columns):\n",
      " #   Column  Non-Null Count  Dtype  \n",
      "---  ------  --------------  -----  \n",
      " 0   p       4418 non-null   string \n",
      " 1   p_conf  4418 non-null   float64\n",
      "dtypes: float64(1), string(1)\n",
      "memory usage: 103.5 KB\n"
     ]
    }
   ],
   "source": [
    "p_df = p_df[p_df['p_dog'] == True]\n",
    "p_df.drop(['p_dog', 'p_num'], axis = 1, inplace = True)\n",
    "p_df.info()"
   ]
  },
  {
   "cell_type": "markdown",
   "metadata": {},
   "source": [
    "#### Finally let's group by the \"p\" column and view the average confidence and count of each \"p\" value"
   ]
  },
  {
   "cell_type": "code",
   "execution_count": 513,
   "metadata": {},
   "outputs": [
    {
     "data": {
      "text/html": [
       "<div>\n",
       "<style scoped>\n",
       "    .dataframe tbody tr th:only-of-type {\n",
       "        vertical-align: middle;\n",
       "    }\n",
       "\n",
       "    .dataframe tbody tr th {\n",
       "        vertical-align: top;\n",
       "    }\n",
       "\n",
       "    .dataframe thead th {\n",
       "        text-align: right;\n",
       "    }\n",
       "</style>\n",
       "<table border=\"1\" class=\"dataframe\">\n",
       "  <thead>\n",
       "    <tr style=\"text-align: right;\">\n",
       "      <th></th>\n",
       "      <th>p_conf</th>\n",
       "      <th>p_count</th>\n",
       "    </tr>\n",
       "    <tr>\n",
       "      <th>p</th>\n",
       "      <th></th>\n",
       "      <th></th>\n",
       "    </tr>\n",
       "  </thead>\n",
       "  <tbody>\n",
       "    <tr>\n",
       "      <th>bernese mountain dog</th>\n",
       "      <td>0.651259</td>\n",
       "      <td>13</td>\n",
       "    </tr>\n",
       "    <tr>\n",
       "      <th>komondor</th>\n",
       "      <td>0.522381</td>\n",
       "      <td>6</td>\n",
       "    </tr>\n",
       "    <tr>\n",
       "      <th>samoyed</th>\n",
       "      <td>0.501067</td>\n",
       "      <td>66</td>\n",
       "    </tr>\n",
       "    <tr>\n",
       "      <th>pembroke</th>\n",
       "      <td>0.493104</td>\n",
       "      <td>139</td>\n",
       "    </tr>\n",
       "    <tr>\n",
       "      <th>pug</th>\n",
       "      <td>0.476665</td>\n",
       "      <td>92</td>\n",
       "    </tr>\n",
       "    <tr>\n",
       "      <th>blenheim spaniel</th>\n",
       "      <td>0.475460</td>\n",
       "      <td>16</td>\n",
       "    </tr>\n",
       "    <tr>\n",
       "      <th>golden retriever</th>\n",
       "      <td>0.440334</td>\n",
       "      <td>267</td>\n",
       "    </tr>\n",
       "    <tr>\n",
       "      <th>dalmatian</th>\n",
       "      <td>0.400302</td>\n",
       "      <td>20</td>\n",
       "    </tr>\n",
       "    <tr>\n",
       "      <th>german shepherd</th>\n",
       "      <td>0.369846</td>\n",
       "      <td>48</td>\n",
       "    </tr>\n",
       "    <tr>\n",
       "      <th>flat-coated retriever</th>\n",
       "      <td>0.361089</td>\n",
       "      <td>20</td>\n",
       "    </tr>\n",
       "    <tr>\n",
       "      <th>vizsla</th>\n",
       "      <td>0.350400</td>\n",
       "      <td>29</td>\n",
       "    </tr>\n",
       "    <tr>\n",
       "      <th>maltese dog</th>\n",
       "      <td>0.347138</td>\n",
       "      <td>41</td>\n",
       "    </tr>\n",
       "    <tr>\n",
       "      <th>old english sheepdog</th>\n",
       "      <td>0.345268</td>\n",
       "      <td>25</td>\n",
       "    </tr>\n",
       "    <tr>\n",
       "      <th>brittany spaniel</th>\n",
       "      <td>0.336232</td>\n",
       "      <td>24</td>\n",
       "    </tr>\n",
       "    <tr>\n",
       "      <th>pomeranian</th>\n",
       "      <td>0.334555</td>\n",
       "      <td>104</td>\n",
       "    </tr>\n",
       "    <tr>\n",
       "      <th>doberman</th>\n",
       "      <td>0.334015</td>\n",
       "      <td>21</td>\n",
       "    </tr>\n",
       "    <tr>\n",
       "      <th>rottweiler</th>\n",
       "      <td>0.326436</td>\n",
       "      <td>35</td>\n",
       "    </tr>\n",
       "    <tr>\n",
       "      <th>malamute</th>\n",
       "      <td>0.324541</td>\n",
       "      <td>66</td>\n",
       "    </tr>\n",
       "    <tr>\n",
       "      <th>chow</th>\n",
       "      <td>0.323624</td>\n",
       "      <td>92</td>\n",
       "    </tr>\n",
       "    <tr>\n",
       "      <th>briard</th>\n",
       "      <td>0.319189</td>\n",
       "      <td>8</td>\n",
       "    </tr>\n",
       "    <tr>\n",
       "      <th>shih-tzu</th>\n",
       "      <td>0.315504</td>\n",
       "      <td>42</td>\n",
       "    </tr>\n",
       "    <tr>\n",
       "      <th>german short-haired pointer</th>\n",
       "      <td>0.313978</td>\n",
       "      <td>22</td>\n",
       "    </tr>\n",
       "    <tr>\n",
       "      <th>airedale</th>\n",
       "      <td>0.309215</td>\n",
       "      <td>29</td>\n",
       "    </tr>\n",
       "    <tr>\n",
       "      <th>schipperke</th>\n",
       "      <td>0.307804</td>\n",
       "      <td>22</td>\n",
       "    </tr>\n",
       "    <tr>\n",
       "      <th>basset</th>\n",
       "      <td>0.302715</td>\n",
       "      <td>35</td>\n",
       "    </tr>\n",
       "    <tr>\n",
       "      <th>chihuahua</th>\n",
       "      <td>0.301717</td>\n",
       "      <td>179</td>\n",
       "    </tr>\n",
       "    <tr>\n",
       "      <th>labrador retriever</th>\n",
       "      <td>0.295863</td>\n",
       "      <td>267</td>\n",
       "    </tr>\n",
       "    <tr>\n",
       "      <th>toy poodle</th>\n",
       "      <td>0.295065</td>\n",
       "      <td>103</td>\n",
       "    </tr>\n",
       "    <tr>\n",
       "      <th>gordon setter</th>\n",
       "      <td>0.294395</td>\n",
       "      <td>8</td>\n",
       "    </tr>\n",
       "    <tr>\n",
       "      <th>french bulldog</th>\n",
       "      <td>0.291677</td>\n",
       "      <td>90</td>\n",
       "    </tr>\n",
       "    <tr>\n",
       "      <th>border collie</th>\n",
       "      <td>0.289118</td>\n",
       "      <td>33</td>\n",
       "    </tr>\n",
       "    <tr>\n",
       "      <th>yorkshire terrier</th>\n",
       "      <td>0.286837</td>\n",
       "      <td>20</td>\n",
       "    </tr>\n",
       "    <tr>\n",
       "      <th>borzoi</th>\n",
       "      <td>0.282608</td>\n",
       "      <td>27</td>\n",
       "    </tr>\n",
       "    <tr>\n",
       "      <th>shetland sheepdog</th>\n",
       "      <td>0.281798</td>\n",
       "      <td>47</td>\n",
       "    </tr>\n",
       "    <tr>\n",
       "      <th>west highland white terrier</th>\n",
       "      <td>0.275610</td>\n",
       "      <td>40</td>\n",
       "    </tr>\n",
       "    <tr>\n",
       "      <th>standard schnauzer</th>\n",
       "      <td>0.274046</td>\n",
       "      <td>3</td>\n",
       "    </tr>\n",
       "    <tr>\n",
       "      <th>english springer</th>\n",
       "      <td>0.268919</td>\n",
       "      <td>25</td>\n",
       "    </tr>\n",
       "    <tr>\n",
       "      <th>miniature pinscher</th>\n",
       "      <td>0.262214</td>\n",
       "      <td>56</td>\n",
       "    </tr>\n",
       "    <tr>\n",
       "      <th>saint bernard</th>\n",
       "      <td>0.262199</td>\n",
       "      <td>20</td>\n",
       "    </tr>\n",
       "    <tr>\n",
       "      <th>lakeland terrier</th>\n",
       "      <td>0.261401</td>\n",
       "      <td>41</td>\n",
       "    </tr>\n",
       "    <tr>\n",
       "      <th>siberian husky</th>\n",
       "      <td>0.259033</td>\n",
       "      <td>72</td>\n",
       "    </tr>\n",
       "    <tr>\n",
       "      <th>border terrier</th>\n",
       "      <td>0.257032</td>\n",
       "      <td>17</td>\n",
       "    </tr>\n",
       "    <tr>\n",
       "      <th>malinois</th>\n",
       "      <td>0.245055</td>\n",
       "      <td>33</td>\n",
       "    </tr>\n",
       "    <tr>\n",
       "      <th>whippet</th>\n",
       "      <td>0.241250</td>\n",
       "      <td>32</td>\n",
       "    </tr>\n",
       "    <tr>\n",
       "      <th>bedlington terrier</th>\n",
       "      <td>0.240781</td>\n",
       "      <td>10</td>\n",
       "    </tr>\n",
       "    <tr>\n",
       "      <th>soft-coated wheaten terrier</th>\n",
       "      <td>0.239077</td>\n",
       "      <td>34</td>\n",
       "    </tr>\n",
       "    <tr>\n",
       "      <th>american staffordshire terrier</th>\n",
       "      <td>0.238141</td>\n",
       "      <td>56</td>\n",
       "    </tr>\n",
       "    <tr>\n",
       "      <th>miniature schnauzer</th>\n",
       "      <td>0.236823</td>\n",
       "      <td>11</td>\n",
       "    </tr>\n",
       "    <tr>\n",
       "      <th>boxer</th>\n",
       "      <td>0.234175</td>\n",
       "      <td>39</td>\n",
       "    </tr>\n",
       "    <tr>\n",
       "      <th>great pyrenees</th>\n",
       "      <td>0.233554</td>\n",
       "      <td>54</td>\n",
       "    </tr>\n",
       "    <tr>\n",
       "      <th>dandie dinmont</th>\n",
       "      <td>0.228493</td>\n",
       "      <td>13</td>\n",
       "    </tr>\n",
       "    <tr>\n",
       "      <th>chesapeake bay retriever</th>\n",
       "      <td>0.225678</td>\n",
       "      <td>87</td>\n",
       "    </tr>\n",
       "    <tr>\n",
       "      <th>cocker spaniel</th>\n",
       "      <td>0.221864</td>\n",
       "      <td>88</td>\n",
       "    </tr>\n",
       "    <tr>\n",
       "      <th>great dane</th>\n",
       "      <td>0.220472</td>\n",
       "      <td>25</td>\n",
       "    </tr>\n",
       "    <tr>\n",
       "      <th>collie</th>\n",
       "      <td>0.219766</td>\n",
       "      <td>49</td>\n",
       "    </tr>\n",
       "    <tr>\n",
       "      <th>italian greyhound</th>\n",
       "      <td>0.217352</td>\n",
       "      <td>49</td>\n",
       "    </tr>\n",
       "    <tr>\n",
       "      <th>leonberg</th>\n",
       "      <td>0.215776</td>\n",
       "      <td>13</td>\n",
       "    </tr>\n",
       "    <tr>\n",
       "      <th>redbone</th>\n",
       "      <td>0.215305</td>\n",
       "      <td>25</td>\n",
       "    </tr>\n",
       "    <tr>\n",
       "      <th>english setter</th>\n",
       "      <td>0.212434</td>\n",
       "      <td>25</td>\n",
       "    </tr>\n",
       "    <tr>\n",
       "      <th>giant schnauzer</th>\n",
       "      <td>0.211569</td>\n",
       "      <td>10</td>\n",
       "    </tr>\n",
       "    <tr>\n",
       "      <th>keeshond</th>\n",
       "      <td>0.210372</td>\n",
       "      <td>21</td>\n",
       "    </tr>\n",
       "    <tr>\n",
       "      <th>norwegian elkhound</th>\n",
       "      <td>0.207382</td>\n",
       "      <td>36</td>\n",
       "    </tr>\n",
       "    <tr>\n",
       "      <th>bloodhound</th>\n",
       "      <td>0.206239</td>\n",
       "      <td>25</td>\n",
       "    </tr>\n",
       "    <tr>\n",
       "      <th>staffordshire bullterrier</th>\n",
       "      <td>0.206118</td>\n",
       "      <td>67</td>\n",
       "    </tr>\n",
       "    <tr>\n",
       "      <th>eskimo dog</th>\n",
       "      <td>0.205475</td>\n",
       "      <td>81</td>\n",
       "    </tr>\n",
       "    <tr>\n",
       "      <th>pekinese</th>\n",
       "      <td>0.203610</td>\n",
       "      <td>62</td>\n",
       "    </tr>\n",
       "    <tr>\n",
       "      <th>papillon</th>\n",
       "      <td>0.201571</td>\n",
       "      <td>25</td>\n",
       "    </tr>\n",
       "    <tr>\n",
       "      <th>irish water spaniel</th>\n",
       "      <td>0.200551</td>\n",
       "      <td>7</td>\n",
       "    </tr>\n",
       "    <tr>\n",
       "      <th>greater swiss mountain dog</th>\n",
       "      <td>0.200225</td>\n",
       "      <td>14</td>\n",
       "    </tr>\n",
       "    <tr>\n",
       "      <th>boston bull</th>\n",
       "      <td>0.200094</td>\n",
       "      <td>45</td>\n",
       "    </tr>\n",
       "    <tr>\n",
       "      <th>afghan hound</th>\n",
       "      <td>0.194239</td>\n",
       "      <td>12</td>\n",
       "    </tr>\n",
       "    <tr>\n",
       "      <th>beagle</th>\n",
       "      <td>0.193314</td>\n",
       "      <td>75</td>\n",
       "    </tr>\n",
       "    <tr>\n",
       "      <th>cardigan</th>\n",
       "      <td>0.191748</td>\n",
       "      <td>112</td>\n",
       "    </tr>\n",
       "    <tr>\n",
       "      <th>walker hound</th>\n",
       "      <td>0.191682</td>\n",
       "      <td>13</td>\n",
       "    </tr>\n",
       "    <tr>\n",
       "      <th>mexican hairless</th>\n",
       "      <td>0.191501</td>\n",
       "      <td>12</td>\n",
       "    </tr>\n",
       "    <tr>\n",
       "      <th>sussex spaniel</th>\n",
       "      <td>0.189650</td>\n",
       "      <td>8</td>\n",
       "    </tr>\n",
       "    <tr>\n",
       "      <th>bull mastiff</th>\n",
       "      <td>0.188437</td>\n",
       "      <td>37</td>\n",
       "    </tr>\n",
       "    <tr>\n",
       "      <th>newfoundland</th>\n",
       "      <td>0.185099</td>\n",
       "      <td>21</td>\n",
       "    </tr>\n",
       "    <tr>\n",
       "      <th>weimaraner</th>\n",
       "      <td>0.182303</td>\n",
       "      <td>20</td>\n",
       "    </tr>\n",
       "    <tr>\n",
       "      <th>irish terrier</th>\n",
       "      <td>0.179776</td>\n",
       "      <td>31</td>\n",
       "    </tr>\n",
       "    <tr>\n",
       "      <th>curly-coated retriever</th>\n",
       "      <td>0.174036</td>\n",
       "      <td>13</td>\n",
       "    </tr>\n",
       "    <tr>\n",
       "      <th>ibizan hound</th>\n",
       "      <td>0.173355</td>\n",
       "      <td>17</td>\n",
       "    </tr>\n",
       "    <tr>\n",
       "      <th>miniature poodle</th>\n",
       "      <td>0.171000</td>\n",
       "      <td>53</td>\n",
       "    </tr>\n",
       "    <tr>\n",
       "      <th>irish setter</th>\n",
       "      <td>0.169650</td>\n",
       "      <td>22</td>\n",
       "    </tr>\n",
       "    <tr>\n",
       "      <th>lhasa</th>\n",
       "      <td>0.168446</td>\n",
       "      <td>22</td>\n",
       "    </tr>\n",
       "    <tr>\n",
       "      <th>standard poodle</th>\n",
       "      <td>0.168330</td>\n",
       "      <td>30</td>\n",
       "    </tr>\n",
       "    <tr>\n",
       "      <th>scotch terrier</th>\n",
       "      <td>0.166851</td>\n",
       "      <td>3</td>\n",
       "    </tr>\n",
       "    <tr>\n",
       "      <th>kuvasz</th>\n",
       "      <td>0.163726</td>\n",
       "      <td>71</td>\n",
       "    </tr>\n",
       "    <tr>\n",
       "      <th>clumber</th>\n",
       "      <td>0.163535</td>\n",
       "      <td>8</td>\n",
       "    </tr>\n",
       "    <tr>\n",
       "      <th>cairn</th>\n",
       "      <td>0.163193</td>\n",
       "      <td>13</td>\n",
       "    </tr>\n",
       "    <tr>\n",
       "      <th>bluetick</th>\n",
       "      <td>0.161172</td>\n",
       "      <td>16</td>\n",
       "    </tr>\n",
       "    <tr>\n",
       "      <th>norfolk terrier</th>\n",
       "      <td>0.160546</td>\n",
       "      <td>25</td>\n",
       "    </tr>\n",
       "    <tr>\n",
       "      <th>black-and-tan coonhound</th>\n",
       "      <td>0.159877</td>\n",
       "      <td>18</td>\n",
       "    </tr>\n",
       "    <tr>\n",
       "      <th>basenji</th>\n",
       "      <td>0.149235</td>\n",
       "      <td>33</td>\n",
       "    </tr>\n",
       "    <tr>\n",
       "      <th>kerry blue terrier</th>\n",
       "      <td>0.148838</td>\n",
       "      <td>2</td>\n",
       "    </tr>\n",
       "    <tr>\n",
       "      <th>rhodesian ridgeback</th>\n",
       "      <td>0.143677</td>\n",
       "      <td>21</td>\n",
       "    </tr>\n",
       "    <tr>\n",
       "      <th>wire-haired fox terrier</th>\n",
       "      <td>0.143180</td>\n",
       "      <td>9</td>\n",
       "    </tr>\n",
       "    <tr>\n",
       "      <th>affenpinscher</th>\n",
       "      <td>0.142091</td>\n",
       "      <td>2</td>\n",
       "    </tr>\n",
       "    <tr>\n",
       "      <th>welsh springer spaniel</th>\n",
       "      <td>0.141006</td>\n",
       "      <td>21</td>\n",
       "    </tr>\n",
       "    <tr>\n",
       "      <th>groenendael</th>\n",
       "      <td>0.140885</td>\n",
       "      <td>16</td>\n",
       "    </tr>\n",
       "    <tr>\n",
       "      <th>kelpie</th>\n",
       "      <td>0.140433</td>\n",
       "      <td>59</td>\n",
       "    </tr>\n",
       "    <tr>\n",
       "      <th>japanese spaniel</th>\n",
       "      <td>0.139198</td>\n",
       "      <td>6</td>\n",
       "    </tr>\n",
       "    <tr>\n",
       "      <th>tibetan mastiff</th>\n",
       "      <td>0.135920</td>\n",
       "      <td>33</td>\n",
       "    </tr>\n",
       "    <tr>\n",
       "      <th>tibetan terrier</th>\n",
       "      <td>0.135503</td>\n",
       "      <td>22</td>\n",
       "    </tr>\n",
       "    <tr>\n",
       "      <th>saluki</th>\n",
       "      <td>0.134972</td>\n",
       "      <td>22</td>\n",
       "    </tr>\n",
       "    <tr>\n",
       "      <th>silky terrier</th>\n",
       "      <td>0.134739</td>\n",
       "      <td>11</td>\n",
       "    </tr>\n",
       "    <tr>\n",
       "      <th>norwich terrier</th>\n",
       "      <td>0.134185</td>\n",
       "      <td>15</td>\n",
       "    </tr>\n",
       "    <tr>\n",
       "      <th>english foxhound</th>\n",
       "      <td>0.125686</td>\n",
       "      <td>8</td>\n",
       "    </tr>\n",
       "    <tr>\n",
       "      <th>otterhound</th>\n",
       "      <td>0.125194</td>\n",
       "      <td>9</td>\n",
       "    </tr>\n",
       "    <tr>\n",
       "      <th>appenzeller</th>\n",
       "      <td>0.121561</td>\n",
       "      <td>16</td>\n",
       "    </tr>\n",
       "    <tr>\n",
       "      <th>sealyham terrier</th>\n",
       "      <td>0.119416</td>\n",
       "      <td>4</td>\n",
       "    </tr>\n",
       "    <tr>\n",
       "      <th>scottish deerhound</th>\n",
       "      <td>0.116529</td>\n",
       "      <td>6</td>\n",
       "    </tr>\n",
       "    <tr>\n",
       "      <th>brabancon griffon</th>\n",
       "      <td>0.111001</td>\n",
       "      <td>19</td>\n",
       "    </tr>\n",
       "    <tr>\n",
       "      <th>entlebucher</th>\n",
       "      <td>0.106013</td>\n",
       "      <td>8</td>\n",
       "    </tr>\n",
       "    <tr>\n",
       "      <th>australian terrier</th>\n",
       "      <td>0.102573</td>\n",
       "      <td>12</td>\n",
       "    </tr>\n",
       "    <tr>\n",
       "      <th>toy terrier</th>\n",
       "      <td>0.092190</td>\n",
       "      <td>39</td>\n",
       "    </tr>\n",
       "    <tr>\n",
       "      <th>irish wolfhound</th>\n",
       "      <td>0.079417</td>\n",
       "      <td>5</td>\n",
       "    </tr>\n",
       "    <tr>\n",
       "      <th>bouvier des flandres</th>\n",
       "      <td>0.043651</td>\n",
       "      <td>2</td>\n",
       "    </tr>\n",
       "  </tbody>\n",
       "</table>\n",
       "</div>"
      ],
      "text/plain": [
       "                                  p_conf  p_count\n",
       "p                                                \n",
       "bernese mountain dog            0.651259       13\n",
       "komondor                        0.522381        6\n",
       "samoyed                         0.501067       66\n",
       "pembroke                        0.493104      139\n",
       "pug                             0.476665       92\n",
       "blenheim spaniel                0.475460       16\n",
       "golden retriever                0.440334      267\n",
       "dalmatian                       0.400302       20\n",
       "german shepherd                 0.369846       48\n",
       "flat-coated retriever           0.361089       20\n",
       "vizsla                          0.350400       29\n",
       "maltese dog                     0.347138       41\n",
       "old english sheepdog            0.345268       25\n",
       "brittany spaniel                0.336232       24\n",
       "pomeranian                      0.334555      104\n",
       "doberman                        0.334015       21\n",
       "rottweiler                      0.326436       35\n",
       "malamute                        0.324541       66\n",
       "chow                            0.323624       92\n",
       "briard                          0.319189        8\n",
       "shih-tzu                        0.315504       42\n",
       "german short-haired pointer     0.313978       22\n",
       "airedale                        0.309215       29\n",
       "schipperke                      0.307804       22\n",
       "basset                          0.302715       35\n",
       "chihuahua                       0.301717      179\n",
       "labrador retriever              0.295863      267\n",
       "toy poodle                      0.295065      103\n",
       "gordon setter                   0.294395        8\n",
       "french bulldog                  0.291677       90\n",
       "border collie                   0.289118       33\n",
       "yorkshire terrier               0.286837       20\n",
       "borzoi                          0.282608       27\n",
       "shetland sheepdog               0.281798       47\n",
       "west highland white terrier     0.275610       40\n",
       "standard schnauzer              0.274046        3\n",
       "english springer                0.268919       25\n",
       "miniature pinscher              0.262214       56\n",
       "saint bernard                   0.262199       20\n",
       "lakeland terrier                0.261401       41\n",
       "siberian husky                  0.259033       72\n",
       "border terrier                  0.257032       17\n",
       "malinois                        0.245055       33\n",
       "whippet                         0.241250       32\n",
       "bedlington terrier              0.240781       10\n",
       "soft-coated wheaten terrier     0.239077       34\n",
       "american staffordshire terrier  0.238141       56\n",
       "miniature schnauzer             0.236823       11\n",
       "boxer                           0.234175       39\n",
       "great pyrenees                  0.233554       54\n",
       "dandie dinmont                  0.228493       13\n",
       "chesapeake bay retriever        0.225678       87\n",
       "cocker spaniel                  0.221864       88\n",
       "great dane                      0.220472       25\n",
       "collie                          0.219766       49\n",
       "italian greyhound               0.217352       49\n",
       "leonberg                        0.215776       13\n",
       "redbone                         0.215305       25\n",
       "english setter                  0.212434       25\n",
       "giant schnauzer                 0.211569       10\n",
       "keeshond                        0.210372       21\n",
       "norwegian elkhound              0.207382       36\n",
       "bloodhound                      0.206239       25\n",
       "staffordshire bullterrier       0.206118       67\n",
       "eskimo dog                      0.205475       81\n",
       "pekinese                        0.203610       62\n",
       "papillon                        0.201571       25\n",
       "irish water spaniel             0.200551        7\n",
       "greater swiss mountain dog      0.200225       14\n",
       "boston bull                     0.200094       45\n",
       "afghan hound                    0.194239       12\n",
       "beagle                          0.193314       75\n",
       "cardigan                        0.191748      112\n",
       "walker hound                    0.191682       13\n",
       "mexican hairless                0.191501       12\n",
       "sussex spaniel                  0.189650        8\n",
       "bull mastiff                    0.188437       37\n",
       "newfoundland                    0.185099       21\n",
       "weimaraner                      0.182303       20\n",
       "irish terrier                   0.179776       31\n",
       "curly-coated retriever          0.174036       13\n",
       "ibizan hound                    0.173355       17\n",
       "miniature poodle                0.171000       53\n",
       "irish setter                    0.169650       22\n",
       "lhasa                           0.168446       22\n",
       "standard poodle                 0.168330       30\n",
       "scotch terrier                  0.166851        3\n",
       "kuvasz                          0.163726       71\n",
       "clumber                         0.163535        8\n",
       "cairn                           0.163193       13\n",
       "bluetick                        0.161172       16\n",
       "norfolk terrier                 0.160546       25\n",
       "black-and-tan coonhound         0.159877       18\n",
       "basenji                         0.149235       33\n",
       "kerry blue terrier              0.148838        2\n",
       "rhodesian ridgeback             0.143677       21\n",
       "wire-haired fox terrier         0.143180        9\n",
       "affenpinscher                   0.142091        2\n",
       "welsh springer spaniel          0.141006       21\n",
       "groenendael                     0.140885       16\n",
       "kelpie                          0.140433       59\n",
       "japanese spaniel                0.139198        6\n",
       "tibetan mastiff                 0.135920       33\n",
       "tibetan terrier                 0.135503       22\n",
       "saluki                          0.134972       22\n",
       "silky terrier                   0.134739       11\n",
       "norwich terrier                 0.134185       15\n",
       "english foxhound                0.125686        8\n",
       "otterhound                      0.125194        9\n",
       "appenzeller                     0.121561       16\n",
       "sealyham terrier                0.119416        4\n",
       "scottish deerhound              0.116529        6\n",
       "brabancon griffon               0.111001       19\n",
       "entlebucher                     0.106013        8\n",
       "australian terrier              0.102573       12\n",
       "toy terrier                     0.092190       39\n",
       "irish wolfhound                 0.079417        5\n",
       "bouvier des flandres            0.043651        2"
      ]
     },
     "execution_count": 513,
     "metadata": {},
     "output_type": "execute_result"
    }
   ],
   "source": [
    "p_avg = pd.DataFrame(p_df.groupby('p')['p_conf'].mean())\n",
    "p_cou = pd.DataFrame(p_df.groupby('p')['p'].count())\n",
    "p_cou.rename(columns = {'p': 'p_count'}, inplace = True)\n",
    "p_full = p_avg.join(p_cou, on = 'p')\n",
    "p_full.sort_values(by = 'p_conf', ascending = False)"
   ]
  },
  {
   "cell_type": "markdown",
   "metadata": {},
   "source": [
    "#### Let's investigate how high users rated their dogs in each post to see who was the highest rated."
   ]
  },
  {
   "cell_type": "code",
   "execution_count": 514,
   "metadata": {},
   "outputs": [
    {
     "data": {
      "text/plain": [
       "type\n",
       "puppo      1.204348\n",
       "floofer    1.187500\n",
       "doggo      1.185938\n",
       "pupper     1.073171\n",
       "Name: rating_score, dtype: float64"
      ]
     },
     "execution_count": 514,
     "metadata": {},
     "output_type": "execute_result"
    }
   ],
   "source": [
    "master.query('type != \"none\"').groupby('type')['rating_score'].mean().sort_values(ascending = False)"
   ]
  },
  {
   "cell_type": "markdown",
   "metadata": {},
   "source": [
    "#### Finally let's investigate the average favorite count for each type"
   ]
  },
  {
   "cell_type": "code",
   "execution_count": 515,
   "metadata": {},
   "outputs": [
    {
     "data": {
      "text/plain": [
       "type\n",
       "puppo      22723.913043\n",
       "doggo      19190.421875\n",
       "floofer    13701.375000\n",
       "pupper      7229.434146\n",
       "Name: favorite_count, dtype: float64"
      ]
     },
     "execution_count": 515,
     "metadata": {},
     "output_type": "execute_result"
    }
   ],
   "source": [
    "master.query('type != \"none\"').groupby('type')['favorite_count'].mean().sort_values(ascending = False)"
   ]
  },
  {
   "cell_type": "markdown",
   "metadata": {},
   "source": [
    "### Insights:\n",
    "1. The algorithm used to identify the dogs in images had an average confidence of 23.4% when identifying dogs. The algorith had the highest confidence on average when identifying \"bernese mountain dogs\" with a confidence of 65.1% with 13 images analyzed.\n",
    "\n",
    "2. Puppos had the highest average rating score with a rating score of 1.2, Puppers had the lowest average rating score with a rating score of 1.07\n",
    "\n",
    "3. Puppos retain their top ranking with respect to favorite count as the received the highest number of favorites on average at 22723. Puppers despite their name similarities to puppos had the lowest average favorites with an average of 7229 favorites."
   ]
  },
  {
   "cell_type": "markdown",
   "metadata": {
    "collapsed": true
   },
   "source": [
    "### Visualization"
   ]
  },
  {
   "cell_type": "code",
   "execution_count": 516,
   "metadata": {},
   "outputs": [
    {
     "data": {
      "text/plain": [
       "Text(0, 0.5, 'Confidence')"
      ]
     },
     "execution_count": 516,
     "metadata": {},
     "output_type": "execute_result"
    },
    {
     "data": {
      "image/png": "[encoded data removed]",
      "text/plain": [
       "<Figure size 640x480 with 1 Axes>"
      ]
     },
     "metadata": {},
     "output_type": "display_data"
    }
   ],
   "source": [
    "\n",
    "x = p_full['p_count']\n",
    "y = p_full['p_conf']\n",
    "# Create Scatter Plot\n",
    "plt.scatter(x, y)\n",
    "# Calculate Trendline\n",
    "z = np.polyfit(x, y, 1)\n",
    "p = np.poly1d(z)\n",
    "# Plot Trendline\n",
    "plt.plot(x, p(x))\n",
    "# Add title and labels\n",
    "plt.title('Confidence vs Count')\n",
    "plt.xlabel('Count')\n",
    "plt.ylabel('Confidence')"
   ]
  },
  {
   "cell_type": "markdown",
   "metadata": {},
   "source": [
    "#### We can see that there is a correlation between the number of images surveyed and the confidence percentage"
   ]
  },
  {
   "cell_type": "markdown",
   "metadata": {},
   "source": []
  }
 ],
 "metadata": {
  "extensions": {
   "jupyter_dashboards": {
    "activeView": "report_default",
    "version": 1,
    "views": {
     "grid_default": {
      "cellMargin": 10,
      "defaultCellHeight": 20,
      "maxColumns": 12,
      "name": "grid",
      "type": "grid"
     },
     "report_default": {
      "name": "report",
      "type": "report"
     }
    }
   }
  },
  "kernelspec": {
   "display_name": "Python 3",
   "language": "python",
   "name": "python3"
  },
  "language_info": {
   "codemirror_mode": {
    "name": "ipython",
    "version": 3
   },
   "file_extension": ".py",
   "mimetype": "text/x-python",
   "name": "python",
   "nbconvert_exporter": "python",
   "pygments_lexer": "ipython3",
   "version": "3.11.5"
  }
 },
 "nbformat": 4,
 "nbformat_minor": 2
}
